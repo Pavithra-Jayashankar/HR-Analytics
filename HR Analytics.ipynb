{
 "cells": [
  {
   "cell_type": "code",
   "execution_count": 1,
   "metadata": {},
   "outputs": [],
   "source": [
    "import pandas as pd\n",
    "import numpy as np\n",
    "import seaborn as sns\n",
    "import matplotlib.pyplot as plt\n",
    "import warnings \n",
    "warnings.filterwarnings('ignore')"
   ]
  },
  {
   "cell_type": "markdown",
   "metadata": {},
   "source": [
    "### import dataset"
   ]
  },
  {
   "cell_type": "code",
   "execution_count": 2,
   "metadata": {},
   "outputs": [],
   "source": [
    "train_set = pd.read_csv(\"train.csv\")\n",
    "test_set = pd.read_csv(\"test.csv\")"
   ]
  },
  {
   "cell_type": "code",
   "execution_count": 3,
   "metadata": {},
   "outputs": [
    {
     "data": {
      "text/plain": [
       "(54808, 14)"
      ]
     },
     "execution_count": 3,
     "metadata": {},
     "output_type": "execute_result"
    }
   ],
   "source": [
    "train_set.shape"
   ]
  },
  {
   "cell_type": "code",
   "execution_count": 4,
   "metadata": {},
   "outputs": [
    {
     "data": {
      "text/plain": [
       "(23490, 13)"
      ]
     },
     "execution_count": 4,
     "metadata": {},
     "output_type": "execute_result"
    }
   ],
   "source": [
    "test_set.shape"
   ]
  },
  {
   "cell_type": "code",
   "execution_count": 5,
   "metadata": {},
   "outputs": [
    {
     "data": {
      "text/html": [
       "<div>\n",
       "<style scoped>\n",
       "    .dataframe tbody tr th:only-of-type {\n",
       "        vertical-align: middle;\n",
       "    }\n",
       "\n",
       "    .dataframe tbody tr th {\n",
       "        vertical-align: top;\n",
       "    }\n",
       "\n",
       "    .dataframe thead th {\n",
       "        text-align: right;\n",
       "    }\n",
       "</style>\n",
       "<table border=\"1\" class=\"dataframe\">\n",
       "  <thead>\n",
       "    <tr style=\"text-align: right;\">\n",
       "      <th></th>\n",
       "      <th>employee_id</th>\n",
       "      <th>department</th>\n",
       "      <th>region</th>\n",
       "      <th>education</th>\n",
       "      <th>gender</th>\n",
       "      <th>recruitment_channel</th>\n",
       "      <th>no_of_trainings</th>\n",
       "      <th>age</th>\n",
       "      <th>previous_year_rating</th>\n",
       "      <th>length_of_service</th>\n",
       "      <th>KPIs_met &gt;80%</th>\n",
       "      <th>awards_won?</th>\n",
       "      <th>avg_training_score</th>\n",
       "      <th>is_promoted</th>\n",
       "    </tr>\n",
       "  </thead>\n",
       "  <tbody>\n",
       "    <tr>\n",
       "      <th>0</th>\n",
       "      <td>65438</td>\n",
       "      <td>Sales &amp; Marketing</td>\n",
       "      <td>region_7</td>\n",
       "      <td>Master's &amp; above</td>\n",
       "      <td>f</td>\n",
       "      <td>sourcing</td>\n",
       "      <td>1</td>\n",
       "      <td>35</td>\n",
       "      <td>5.0</td>\n",
       "      <td>8</td>\n",
       "      <td>1</td>\n",
       "      <td>0</td>\n",
       "      <td>49</td>\n",
       "      <td>0</td>\n",
       "    </tr>\n",
       "    <tr>\n",
       "      <th>1</th>\n",
       "      <td>65141</td>\n",
       "      <td>Operations</td>\n",
       "      <td>region_22</td>\n",
       "      <td>Bachelor's</td>\n",
       "      <td>m</td>\n",
       "      <td>other</td>\n",
       "      <td>1</td>\n",
       "      <td>30</td>\n",
       "      <td>5.0</td>\n",
       "      <td>4</td>\n",
       "      <td>0</td>\n",
       "      <td>0</td>\n",
       "      <td>60</td>\n",
       "      <td>0</td>\n",
       "    </tr>\n",
       "    <tr>\n",
       "      <th>2</th>\n",
       "      <td>7513</td>\n",
       "      <td>Sales &amp; Marketing</td>\n",
       "      <td>region_19</td>\n",
       "      <td>Bachelor's</td>\n",
       "      <td>m</td>\n",
       "      <td>sourcing</td>\n",
       "      <td>1</td>\n",
       "      <td>34</td>\n",
       "      <td>3.0</td>\n",
       "      <td>7</td>\n",
       "      <td>0</td>\n",
       "      <td>0</td>\n",
       "      <td>50</td>\n",
       "      <td>0</td>\n",
       "    </tr>\n",
       "    <tr>\n",
       "      <th>3</th>\n",
       "      <td>2542</td>\n",
       "      <td>Sales &amp; Marketing</td>\n",
       "      <td>region_23</td>\n",
       "      <td>Bachelor's</td>\n",
       "      <td>m</td>\n",
       "      <td>other</td>\n",
       "      <td>2</td>\n",
       "      <td>39</td>\n",
       "      <td>1.0</td>\n",
       "      <td>10</td>\n",
       "      <td>0</td>\n",
       "      <td>0</td>\n",
       "      <td>50</td>\n",
       "      <td>0</td>\n",
       "    </tr>\n",
       "    <tr>\n",
       "      <th>4</th>\n",
       "      <td>48945</td>\n",
       "      <td>Technology</td>\n",
       "      <td>region_26</td>\n",
       "      <td>Bachelor's</td>\n",
       "      <td>m</td>\n",
       "      <td>other</td>\n",
       "      <td>1</td>\n",
       "      <td>45</td>\n",
       "      <td>3.0</td>\n",
       "      <td>2</td>\n",
       "      <td>0</td>\n",
       "      <td>0</td>\n",
       "      <td>73</td>\n",
       "      <td>0</td>\n",
       "    </tr>\n",
       "  </tbody>\n",
       "</table>\n",
       "</div>"
      ],
      "text/plain": [
       "   employee_id         department     region         education gender  \\\n",
       "0        65438  Sales & Marketing   region_7  Master's & above      f   \n",
       "1        65141         Operations  region_22        Bachelor's      m   \n",
       "2         7513  Sales & Marketing  region_19        Bachelor's      m   \n",
       "3         2542  Sales & Marketing  region_23        Bachelor's      m   \n",
       "4        48945         Technology  region_26        Bachelor's      m   \n",
       "\n",
       "  recruitment_channel  no_of_trainings  age  previous_year_rating  \\\n",
       "0            sourcing                1   35                   5.0   \n",
       "1               other                1   30                   5.0   \n",
       "2            sourcing                1   34                   3.0   \n",
       "3               other                2   39                   1.0   \n",
       "4               other                1   45                   3.0   \n",
       "\n",
       "   length_of_service  KPIs_met >80%  awards_won?  avg_training_score  \\\n",
       "0                  8              1            0                  49   \n",
       "1                  4              0            0                  60   \n",
       "2                  7              0            0                  50   \n",
       "3                 10              0            0                  50   \n",
       "4                  2              0            0                  73   \n",
       "\n",
       "   is_promoted  \n",
       "0            0  \n",
       "1            0  \n",
       "2            0  \n",
       "3            0  \n",
       "4            0  "
      ]
     },
     "execution_count": 5,
     "metadata": {},
     "output_type": "execute_result"
    }
   ],
   "source": [
    "train_set.head()"
   ]
  },
  {
   "cell_type": "code",
   "execution_count": 6,
   "metadata": {},
   "outputs": [
    {
     "data": {
      "text/html": [
       "<div>\n",
       "<style scoped>\n",
       "    .dataframe tbody tr th:only-of-type {\n",
       "        vertical-align: middle;\n",
       "    }\n",
       "\n",
       "    .dataframe tbody tr th {\n",
       "        vertical-align: top;\n",
       "    }\n",
       "\n",
       "    .dataframe thead th {\n",
       "        text-align: right;\n",
       "    }\n",
       "</style>\n",
       "<table border=\"1\" class=\"dataframe\">\n",
       "  <thead>\n",
       "    <tr style=\"text-align: right;\">\n",
       "      <th></th>\n",
       "      <th>employee_id</th>\n",
       "      <th>department</th>\n",
       "      <th>region</th>\n",
       "      <th>education</th>\n",
       "      <th>gender</th>\n",
       "      <th>recruitment_channel</th>\n",
       "      <th>no_of_trainings</th>\n",
       "      <th>age</th>\n",
       "      <th>previous_year_rating</th>\n",
       "      <th>length_of_service</th>\n",
       "      <th>KPIs_met &gt;80%</th>\n",
       "      <th>awards_won?</th>\n",
       "      <th>avg_training_score</th>\n",
       "    </tr>\n",
       "  </thead>\n",
       "  <tbody>\n",
       "    <tr>\n",
       "      <th>0</th>\n",
       "      <td>8724</td>\n",
       "      <td>Technology</td>\n",
       "      <td>region_26</td>\n",
       "      <td>Bachelor's</td>\n",
       "      <td>m</td>\n",
       "      <td>sourcing</td>\n",
       "      <td>1</td>\n",
       "      <td>24</td>\n",
       "      <td>NaN</td>\n",
       "      <td>1</td>\n",
       "      <td>1</td>\n",
       "      <td>0</td>\n",
       "      <td>77</td>\n",
       "    </tr>\n",
       "    <tr>\n",
       "      <th>1</th>\n",
       "      <td>74430</td>\n",
       "      <td>HR</td>\n",
       "      <td>region_4</td>\n",
       "      <td>Bachelor's</td>\n",
       "      <td>f</td>\n",
       "      <td>other</td>\n",
       "      <td>1</td>\n",
       "      <td>31</td>\n",
       "      <td>3.0</td>\n",
       "      <td>5</td>\n",
       "      <td>0</td>\n",
       "      <td>0</td>\n",
       "      <td>51</td>\n",
       "    </tr>\n",
       "    <tr>\n",
       "      <th>2</th>\n",
       "      <td>72255</td>\n",
       "      <td>Sales &amp; Marketing</td>\n",
       "      <td>region_13</td>\n",
       "      <td>Bachelor's</td>\n",
       "      <td>m</td>\n",
       "      <td>other</td>\n",
       "      <td>1</td>\n",
       "      <td>31</td>\n",
       "      <td>1.0</td>\n",
       "      <td>4</td>\n",
       "      <td>0</td>\n",
       "      <td>0</td>\n",
       "      <td>47</td>\n",
       "    </tr>\n",
       "    <tr>\n",
       "      <th>3</th>\n",
       "      <td>38562</td>\n",
       "      <td>Procurement</td>\n",
       "      <td>region_2</td>\n",
       "      <td>Bachelor's</td>\n",
       "      <td>f</td>\n",
       "      <td>other</td>\n",
       "      <td>3</td>\n",
       "      <td>31</td>\n",
       "      <td>2.0</td>\n",
       "      <td>9</td>\n",
       "      <td>0</td>\n",
       "      <td>0</td>\n",
       "      <td>65</td>\n",
       "    </tr>\n",
       "    <tr>\n",
       "      <th>4</th>\n",
       "      <td>64486</td>\n",
       "      <td>Finance</td>\n",
       "      <td>region_29</td>\n",
       "      <td>Bachelor's</td>\n",
       "      <td>m</td>\n",
       "      <td>sourcing</td>\n",
       "      <td>1</td>\n",
       "      <td>30</td>\n",
       "      <td>4.0</td>\n",
       "      <td>7</td>\n",
       "      <td>0</td>\n",
       "      <td>0</td>\n",
       "      <td>61</td>\n",
       "    </tr>\n",
       "  </tbody>\n",
       "</table>\n",
       "</div>"
      ],
      "text/plain": [
       "   employee_id         department     region   education gender  \\\n",
       "0         8724         Technology  region_26  Bachelor's      m   \n",
       "1        74430                 HR   region_4  Bachelor's      f   \n",
       "2        72255  Sales & Marketing  region_13  Bachelor's      m   \n",
       "3        38562        Procurement   region_2  Bachelor's      f   \n",
       "4        64486            Finance  region_29  Bachelor's      m   \n",
       "\n",
       "  recruitment_channel  no_of_trainings  age  previous_year_rating  \\\n",
       "0            sourcing                1   24                   NaN   \n",
       "1               other                1   31                   3.0   \n",
       "2               other                1   31                   1.0   \n",
       "3               other                3   31                   2.0   \n",
       "4            sourcing                1   30                   4.0   \n",
       "\n",
       "   length_of_service  KPIs_met >80%  awards_won?  avg_training_score  \n",
       "0                  1              1            0                  77  \n",
       "1                  5              0            0                  51  \n",
       "2                  4              0            0                  47  \n",
       "3                  9              0            0                  65  \n",
       "4                  7              0            0                  61  "
      ]
     },
     "execution_count": 6,
     "metadata": {},
     "output_type": "execute_result"
    }
   ],
   "source": [
    "test_set.head()"
   ]
  },
  {
   "cell_type": "code",
   "execution_count": 7,
   "metadata": {},
   "outputs": [],
   "source": [
    "employee_id = test_set['employee_id']"
   ]
  },
  {
   "cell_type": "code",
   "execution_count": 8,
   "metadata": {},
   "outputs": [
    {
     "data": {
      "text/plain": [
       "(23490,)"
      ]
     },
     "execution_count": 8,
     "metadata": {},
     "output_type": "execute_result"
    }
   ],
   "source": [
    "employee_id.shape"
   ]
  },
  {
   "cell_type": "code",
   "execution_count": 9,
   "metadata": {},
   "outputs": [
    {
     "data": {
      "text/html": [
       "<div>\n",
       "<style scoped>\n",
       "    .dataframe tbody tr th:only-of-type {\n",
       "        vertical-align: middle;\n",
       "    }\n",
       "\n",
       "    .dataframe tbody tr th {\n",
       "        vertical-align: top;\n",
       "    }\n",
       "\n",
       "    .dataframe thead th {\n",
       "        text-align: right;\n",
       "    }\n",
       "</style>\n",
       "<table border=\"1\" class=\"dataframe\">\n",
       "  <thead>\n",
       "    <tr style=\"text-align: right;\">\n",
       "      <th></th>\n",
       "      <th>employee_id</th>\n",
       "      <th>no_of_trainings</th>\n",
       "      <th>age</th>\n",
       "      <th>previous_year_rating</th>\n",
       "      <th>length_of_service</th>\n",
       "      <th>KPIs_met &gt;80%</th>\n",
       "      <th>awards_won?</th>\n",
       "      <th>avg_training_score</th>\n",
       "      <th>is_promoted</th>\n",
       "    </tr>\n",
       "  </thead>\n",
       "  <tbody>\n",
       "    <tr>\n",
       "      <th>count</th>\n",
       "      <td>54808.000000</td>\n",
       "      <td>54808.000000</td>\n",
       "      <td>54808.000000</td>\n",
       "      <td>50684.000000</td>\n",
       "      <td>54808.000000</td>\n",
       "      <td>54808.000000</td>\n",
       "      <td>54808.000000</td>\n",
       "      <td>54808.000000</td>\n",
       "      <td>54808.000000</td>\n",
       "    </tr>\n",
       "    <tr>\n",
       "      <th>mean</th>\n",
       "      <td>39195.830627</td>\n",
       "      <td>1.253011</td>\n",
       "      <td>34.803915</td>\n",
       "      <td>3.329256</td>\n",
       "      <td>5.865512</td>\n",
       "      <td>0.351974</td>\n",
       "      <td>0.023172</td>\n",
       "      <td>63.386750</td>\n",
       "      <td>0.085170</td>\n",
       "    </tr>\n",
       "    <tr>\n",
       "      <th>std</th>\n",
       "      <td>22586.581449</td>\n",
       "      <td>0.609264</td>\n",
       "      <td>7.660169</td>\n",
       "      <td>1.259993</td>\n",
       "      <td>4.265094</td>\n",
       "      <td>0.477590</td>\n",
       "      <td>0.150450</td>\n",
       "      <td>13.371559</td>\n",
       "      <td>0.279137</td>\n",
       "    </tr>\n",
       "    <tr>\n",
       "      <th>min</th>\n",
       "      <td>1.000000</td>\n",
       "      <td>1.000000</td>\n",
       "      <td>20.000000</td>\n",
       "      <td>1.000000</td>\n",
       "      <td>1.000000</td>\n",
       "      <td>0.000000</td>\n",
       "      <td>0.000000</td>\n",
       "      <td>39.000000</td>\n",
       "      <td>0.000000</td>\n",
       "    </tr>\n",
       "    <tr>\n",
       "      <th>25%</th>\n",
       "      <td>19669.750000</td>\n",
       "      <td>1.000000</td>\n",
       "      <td>29.000000</td>\n",
       "      <td>3.000000</td>\n",
       "      <td>3.000000</td>\n",
       "      <td>0.000000</td>\n",
       "      <td>0.000000</td>\n",
       "      <td>51.000000</td>\n",
       "      <td>0.000000</td>\n",
       "    </tr>\n",
       "    <tr>\n",
       "      <th>50%</th>\n",
       "      <td>39225.500000</td>\n",
       "      <td>1.000000</td>\n",
       "      <td>33.000000</td>\n",
       "      <td>3.000000</td>\n",
       "      <td>5.000000</td>\n",
       "      <td>0.000000</td>\n",
       "      <td>0.000000</td>\n",
       "      <td>60.000000</td>\n",
       "      <td>0.000000</td>\n",
       "    </tr>\n",
       "    <tr>\n",
       "      <th>75%</th>\n",
       "      <td>58730.500000</td>\n",
       "      <td>1.000000</td>\n",
       "      <td>39.000000</td>\n",
       "      <td>4.000000</td>\n",
       "      <td>7.000000</td>\n",
       "      <td>1.000000</td>\n",
       "      <td>0.000000</td>\n",
       "      <td>76.000000</td>\n",
       "      <td>0.000000</td>\n",
       "    </tr>\n",
       "    <tr>\n",
       "      <th>max</th>\n",
       "      <td>78298.000000</td>\n",
       "      <td>10.000000</td>\n",
       "      <td>60.000000</td>\n",
       "      <td>5.000000</td>\n",
       "      <td>37.000000</td>\n",
       "      <td>1.000000</td>\n",
       "      <td>1.000000</td>\n",
       "      <td>99.000000</td>\n",
       "      <td>1.000000</td>\n",
       "    </tr>\n",
       "  </tbody>\n",
       "</table>\n",
       "</div>"
      ],
      "text/plain": [
       "        employee_id  no_of_trainings           age  previous_year_rating  \\\n",
       "count  54808.000000     54808.000000  54808.000000          50684.000000   \n",
       "mean   39195.830627         1.253011     34.803915              3.329256   \n",
       "std    22586.581449         0.609264      7.660169              1.259993   \n",
       "min        1.000000         1.000000     20.000000              1.000000   \n",
       "25%    19669.750000         1.000000     29.000000              3.000000   \n",
       "50%    39225.500000         1.000000     33.000000              3.000000   \n",
       "75%    58730.500000         1.000000     39.000000              4.000000   \n",
       "max    78298.000000        10.000000     60.000000              5.000000   \n",
       "\n",
       "       length_of_service  KPIs_met >80%   awards_won?  avg_training_score  \\\n",
       "count       54808.000000   54808.000000  54808.000000        54808.000000   \n",
       "mean            5.865512       0.351974      0.023172           63.386750   \n",
       "std             4.265094       0.477590      0.150450           13.371559   \n",
       "min             1.000000       0.000000      0.000000           39.000000   \n",
       "25%             3.000000       0.000000      0.000000           51.000000   \n",
       "50%             5.000000       0.000000      0.000000           60.000000   \n",
       "75%             7.000000       1.000000      0.000000           76.000000   \n",
       "max            37.000000       1.000000      1.000000           99.000000   \n",
       "\n",
       "        is_promoted  \n",
       "count  54808.000000  \n",
       "mean       0.085170  \n",
       "std        0.279137  \n",
       "min        0.000000  \n",
       "25%        0.000000  \n",
       "50%        0.000000  \n",
       "75%        0.000000  \n",
       "max        1.000000  "
      ]
     },
     "execution_count": 9,
     "metadata": {},
     "output_type": "execute_result"
    }
   ],
   "source": [
    "train_set.describe()"
   ]
  },
  {
   "cell_type": "code",
   "execution_count": 10,
   "metadata": {},
   "outputs": [
    {
     "data": {
      "text/html": [
       "<div>\n",
       "<style scoped>\n",
       "    .dataframe tbody tr th:only-of-type {\n",
       "        vertical-align: middle;\n",
       "    }\n",
       "\n",
       "    .dataframe tbody tr th {\n",
       "        vertical-align: top;\n",
       "    }\n",
       "\n",
       "    .dataframe thead th {\n",
       "        text-align: right;\n",
       "    }\n",
       "</style>\n",
       "<table border=\"1\" class=\"dataframe\">\n",
       "  <thead>\n",
       "    <tr style=\"text-align: right;\">\n",
       "      <th></th>\n",
       "      <th>employee_id</th>\n",
       "      <th>no_of_trainings</th>\n",
       "      <th>age</th>\n",
       "      <th>previous_year_rating</th>\n",
       "      <th>length_of_service</th>\n",
       "      <th>KPIs_met &gt;80%</th>\n",
       "      <th>awards_won?</th>\n",
       "      <th>avg_training_score</th>\n",
       "    </tr>\n",
       "  </thead>\n",
       "  <tbody>\n",
       "    <tr>\n",
       "      <th>count</th>\n",
       "      <td>23490.000000</td>\n",
       "      <td>23490.000000</td>\n",
       "      <td>23490.000000</td>\n",
       "      <td>21678.000000</td>\n",
       "      <td>23490.000000</td>\n",
       "      <td>23490.000000</td>\n",
       "      <td>23490.000000</td>\n",
       "      <td>23490.000000</td>\n",
       "    </tr>\n",
       "    <tr>\n",
       "      <th>mean</th>\n",
       "      <td>39041.399149</td>\n",
       "      <td>1.254236</td>\n",
       "      <td>34.782929</td>\n",
       "      <td>3.339146</td>\n",
       "      <td>5.810387</td>\n",
       "      <td>0.358834</td>\n",
       "      <td>0.022776</td>\n",
       "      <td>63.263133</td>\n",
       "    </tr>\n",
       "    <tr>\n",
       "      <th>std</th>\n",
       "      <td>22640.809201</td>\n",
       "      <td>0.600910</td>\n",
       "      <td>7.679492</td>\n",
       "      <td>1.263294</td>\n",
       "      <td>4.207917</td>\n",
       "      <td>0.479668</td>\n",
       "      <td>0.149191</td>\n",
       "      <td>13.411750</td>\n",
       "    </tr>\n",
       "    <tr>\n",
       "      <th>min</th>\n",
       "      <td>3.000000</td>\n",
       "      <td>1.000000</td>\n",
       "      <td>20.000000</td>\n",
       "      <td>1.000000</td>\n",
       "      <td>1.000000</td>\n",
       "      <td>0.000000</td>\n",
       "      <td>0.000000</td>\n",
       "      <td>39.000000</td>\n",
       "    </tr>\n",
       "    <tr>\n",
       "      <th>25%</th>\n",
       "      <td>19370.250000</td>\n",
       "      <td>1.000000</td>\n",
       "      <td>29.000000</td>\n",
       "      <td>3.000000</td>\n",
       "      <td>3.000000</td>\n",
       "      <td>0.000000</td>\n",
       "      <td>0.000000</td>\n",
       "      <td>51.000000</td>\n",
       "    </tr>\n",
       "    <tr>\n",
       "      <th>50%</th>\n",
       "      <td>38963.500000</td>\n",
       "      <td>1.000000</td>\n",
       "      <td>33.000000</td>\n",
       "      <td>3.000000</td>\n",
       "      <td>5.000000</td>\n",
       "      <td>0.000000</td>\n",
       "      <td>0.000000</td>\n",
       "      <td>60.000000</td>\n",
       "    </tr>\n",
       "    <tr>\n",
       "      <th>75%</th>\n",
       "      <td>58690.000000</td>\n",
       "      <td>1.000000</td>\n",
       "      <td>39.000000</td>\n",
       "      <td>4.000000</td>\n",
       "      <td>7.000000</td>\n",
       "      <td>1.000000</td>\n",
       "      <td>0.000000</td>\n",
       "      <td>76.000000</td>\n",
       "    </tr>\n",
       "    <tr>\n",
       "      <th>max</th>\n",
       "      <td>78295.000000</td>\n",
       "      <td>9.000000</td>\n",
       "      <td>60.000000</td>\n",
       "      <td>5.000000</td>\n",
       "      <td>34.000000</td>\n",
       "      <td>1.000000</td>\n",
       "      <td>1.000000</td>\n",
       "      <td>99.000000</td>\n",
       "    </tr>\n",
       "  </tbody>\n",
       "</table>\n",
       "</div>"
      ],
      "text/plain": [
       "        employee_id  no_of_trainings           age  previous_year_rating  \\\n",
       "count  23490.000000     23490.000000  23490.000000          21678.000000   \n",
       "mean   39041.399149         1.254236     34.782929              3.339146   \n",
       "std    22640.809201         0.600910      7.679492              1.263294   \n",
       "min        3.000000         1.000000     20.000000              1.000000   \n",
       "25%    19370.250000         1.000000     29.000000              3.000000   \n",
       "50%    38963.500000         1.000000     33.000000              3.000000   \n",
       "75%    58690.000000         1.000000     39.000000              4.000000   \n",
       "max    78295.000000         9.000000     60.000000              5.000000   \n",
       "\n",
       "       length_of_service  KPIs_met >80%   awards_won?  avg_training_score  \n",
       "count       23490.000000   23490.000000  23490.000000        23490.000000  \n",
       "mean            5.810387       0.358834      0.022776           63.263133  \n",
       "std             4.207917       0.479668      0.149191           13.411750  \n",
       "min             1.000000       0.000000      0.000000           39.000000  \n",
       "25%             3.000000       0.000000      0.000000           51.000000  \n",
       "50%             5.000000       0.000000      0.000000           60.000000  \n",
       "75%             7.000000       1.000000      0.000000           76.000000  \n",
       "max            34.000000       1.000000      1.000000           99.000000  "
      ]
     },
     "execution_count": 10,
     "metadata": {},
     "output_type": "execute_result"
    }
   ],
   "source": [
    "test_set.describe()"
   ]
  },
  {
   "cell_type": "code",
   "execution_count": 11,
   "metadata": {},
   "outputs": [
    {
     "name": "stdout",
     "output_type": "stream",
     "text": [
      "<class 'pandas.core.frame.DataFrame'>\n",
      "RangeIndex: 54808 entries, 0 to 54807\n",
      "Data columns (total 14 columns):\n",
      "employee_id             54808 non-null int64\n",
      "department              54808 non-null object\n",
      "region                  54808 non-null object\n",
      "education               52399 non-null object\n",
      "gender                  54808 non-null object\n",
      "recruitment_channel     54808 non-null object\n",
      "no_of_trainings         54808 non-null int64\n",
      "age                     54808 non-null int64\n",
      "previous_year_rating    50684 non-null float64\n",
      "length_of_service       54808 non-null int64\n",
      "KPIs_met >80%           54808 non-null int64\n",
      "awards_won?             54808 non-null int64\n",
      "avg_training_score      54808 non-null int64\n",
      "is_promoted             54808 non-null int64\n",
      "dtypes: float64(1), int64(8), object(5)\n",
      "memory usage: 5.9+ MB\n"
     ]
    }
   ],
   "source": [
    "train_set.info()"
   ]
  },
  {
   "cell_type": "code",
   "execution_count": 12,
   "metadata": {},
   "outputs": [],
   "source": [
    "train_set = train_set.rename(columns = {\"recruitment_channel\" : \"rec_channel\", \"no_of_trainings\" : \"training\", \"previous_year_rating\" : \"prev_year\", \"length_of_service\": \"len_service\", \"KPIs_met >80%\" : \"KPI\",\"awards_won?\" : \"awards\", \"avg_training_score\" : \"training_score\"})"
   ]
  },
  {
   "cell_type": "code",
   "execution_count": 13,
   "metadata": {},
   "outputs": [],
   "source": [
    "test_set = test_set.rename(columns = {\"recruitment_channel\" : \"rec_channel\", \"no_of_trainings\" : \"training\", \"previous_year_rating\" : \"prev_year\", \"length_of_service\": \"len_service\", \"KPIs_met >80%\" : \"KPI\",\"awards_won?\" : \"awards\", \"avg_training_score\" : \"training_score\"})"
   ]
  },
  {
   "cell_type": "code",
   "execution_count": 14,
   "metadata": {},
   "outputs": [
    {
     "data": {
      "text/plain": [
       "Index(['employee_id', 'department', 'region', 'education', 'gender',\n",
       "       'rec_channel', 'training', 'age', 'prev_year', 'len_service', 'KPI',\n",
       "       'awards', 'training_score', 'is_promoted'],\n",
       "      dtype='object')"
      ]
     },
     "execution_count": 14,
     "metadata": {},
     "output_type": "execute_result"
    }
   ],
   "source": [
    "train_set.columns"
   ]
  },
  {
   "cell_type": "code",
   "execution_count": 15,
   "metadata": {},
   "outputs": [
    {
     "data": {
      "text/plain": [
       "Index(['employee_id', 'department', 'region', 'education', 'gender',\n",
       "       'rec_channel', 'training', 'age', 'prev_year', 'len_service', 'KPI',\n",
       "       'awards', 'training_score'],\n",
       "      dtype='object')"
      ]
     },
     "execution_count": 15,
     "metadata": {},
     "output_type": "execute_result"
    }
   ],
   "source": [
    "test_set.columns"
   ]
  },
  {
   "cell_type": "markdown",
   "metadata": {},
   "source": [
    "### Missing values"
   ]
  },
  {
   "cell_type": "code",
   "execution_count": 16,
   "metadata": {},
   "outputs": [
    {
     "data": {
      "text/plain": [
       "employee_id          0\n",
       "department           0\n",
       "region               0\n",
       "education         2409\n",
       "gender               0\n",
       "rec_channel          0\n",
       "training             0\n",
       "age                  0\n",
       "prev_year         4124\n",
       "len_service          0\n",
       "KPI                  0\n",
       "awards               0\n",
       "training_score       0\n",
       "is_promoted          0\n",
       "dtype: int64"
      ]
     },
     "execution_count": 16,
     "metadata": {},
     "output_type": "execute_result"
    }
   ],
   "source": [
    "train_set.isnull().sum()"
   ]
  },
  {
   "cell_type": "code",
   "execution_count": 17,
   "metadata": {},
   "outputs": [
    {
     "data": {
      "text/plain": [
       "employee_id          0\n",
       "department           0\n",
       "region               0\n",
       "education         1034\n",
       "gender               0\n",
       "rec_channel          0\n",
       "training             0\n",
       "age                  0\n",
       "prev_year         1812\n",
       "len_service          0\n",
       "KPI                  0\n",
       "awards               0\n",
       "training_score       0\n",
       "dtype: int64"
      ]
     },
     "execution_count": 17,
     "metadata": {},
     "output_type": "execute_result"
    }
   ],
   "source": [
    "test_set.isnull().sum()"
   ]
  },
  {
   "cell_type": "markdown",
   "metadata": {},
   "source": [
    "### EDA"
   ]
  },
  {
   "cell_type": "code",
   "execution_count": 18,
   "metadata": {},
   "outputs": [
    {
     "data": {
      "image/png": "[encoded data removed]",
      "text/plain": [
       "<Figure size 432x288 with 1 Axes>"
      ]
     },
     "metadata": {},
     "output_type": "display_data"
    }
   ],
   "source": [
    "color = ['pink','blue']\n",
    "plt.pie(train_set['is_promoted'].value_counts(), labels = ['0','1'], colors = color, autopct = \"%.2f%%\")\n",
    "plt.show()"
   ]
  },
  {
   "cell_type": "code",
   "execution_count": 19,
   "metadata": {},
   "outputs": [
    {
     "data": {
      "text/plain": [
       "0    50140\n",
       "1     4668\n",
       "Name: is_promoted, dtype: int64"
      ]
     },
     "execution_count": 19,
     "metadata": {},
     "output_type": "execute_result"
    }
   ],
   "source": [
    "train_set['is_promoted'].value_counts()"
   ]
  },
  {
   "cell_type": "code",
   "execution_count": 20,
   "metadata": {},
   "outputs": [
    {
     "data": {
      "text/plain": [
       "Text(0, 0.5, 'count')"
      ]
     },
     "execution_count": 20,
     "metadata": {},
     "output_type": "execute_result"
    },
    {
     "data": {
      "image/png": "[encoded data removed]",
      "text/plain": [
       "<Figure size 432x288 with 1 Axes>"
      ]
     },
     "metadata": {
      "needs_background": "light"
     },
     "output_type": "display_data"
    }
   ],
   "source": [
    "sns.countplot(x='is_promoted',data=train_set, palette='hls')\n",
    "plt.title('is_promoted', fontsize = 20)\n",
    "plt.xticks(rotation = 45)\n",
    "plt.xlabel(\"Promoted\")\n",
    "plt.ylabel('count')"
   ]
  },
  {
   "cell_type": "markdown",
   "metadata": {},
   "source": [
    "#### Observation :\n",
    "\n",
    "Target variable is imbalanced"
   ]
  },
  {
   "cell_type": "code",
   "execution_count": 21,
   "metadata": {},
   "outputs": [
    {
     "data": {
      "text/plain": [
       "2148245085"
      ]
     },
     "execution_count": 21,
     "metadata": {},
     "output_type": "execute_result"
    }
   ],
   "source": [
    "train_set['employee_id'].unique().sum()"
   ]
  },
  {
   "cell_type": "code",
   "execution_count": 22,
   "metadata": {},
   "outputs": [
    {
     "data": {
      "text/plain": [
       "917082466"
      ]
     },
     "execution_count": 22,
     "metadata": {},
     "output_type": "execute_result"
    }
   ],
   "source": [
    "test_set['employee_id'].unique().sum()"
   ]
  },
  {
   "cell_type": "markdown",
   "metadata": {},
   "source": [
    "#### Observation :\n",
    "\n",
    "since employee id is unique and has no impact on target variable we can drop"
   ]
  },
  {
   "cell_type": "code",
   "execution_count": 23,
   "metadata": {},
   "outputs": [],
   "source": [
    "train_set.drop(['employee_id'], inplace = True, axis = 1)"
   ]
  },
  {
   "cell_type": "code",
   "execution_count": 24,
   "metadata": {},
   "outputs": [],
   "source": [
    "test_set.drop(['employee_id'], inplace = True, axis = 1)"
   ]
  },
  {
   "cell_type": "code",
   "execution_count": 25,
   "metadata": {},
   "outputs": [
    {
     "data": {
      "text/plain": [
       "(54808, 13)"
      ]
     },
     "execution_count": 25,
     "metadata": {},
     "output_type": "execute_result"
    }
   ],
   "source": [
    "train_set.shape"
   ]
  },
  {
   "cell_type": "code",
   "execution_count": 26,
   "metadata": {},
   "outputs": [
    {
     "data": {
      "text/plain": [
       "(23490, 12)"
      ]
     },
     "execution_count": 26,
     "metadata": {},
     "output_type": "execute_result"
    }
   ],
   "source": [
    "test_set.shape"
   ]
  },
  {
   "cell_type": "code",
   "execution_count": 27,
   "metadata": {},
   "outputs": [
    {
     "data": {
      "text/plain": [
       "array(['Sales & Marketing', 'Operations', 'Technology', 'Analytics',\n",
       "       'R&D', 'Procurement', 'Finance', 'HR', 'Legal'], dtype=object)"
      ]
     },
     "execution_count": 27,
     "metadata": {},
     "output_type": "execute_result"
    }
   ],
   "source": [
    "train_set['department'].unique()"
   ]
  },
  {
   "cell_type": "code",
   "execution_count": 28,
   "metadata": {},
   "outputs": [
    {
     "data": {
      "text/plain": [
       "Sales & Marketing    16840\n",
       "Operations           11348\n",
       "Technology            7138\n",
       "Procurement           7138\n",
       "Analytics             5352\n",
       "Finance               2536\n",
       "HR                    2418\n",
       "Legal                 1039\n",
       "R&D                    999\n",
       "Name: department, dtype: int64"
      ]
     },
     "execution_count": 28,
     "metadata": {},
     "output_type": "execute_result"
    }
   ],
   "source": [
    "train_set['department'].value_counts()"
   ]
  },
  {
   "cell_type": "code",
   "execution_count": 29,
   "metadata": {},
   "outputs": [
    {
     "data": {
      "text/plain": [
       "Text(0, 0.5, 'count')"
      ]
     },
     "execution_count": 29,
     "metadata": {},
     "output_type": "execute_result"
    },
    {
     "data": {
      "image/png": "[encoded data removed]",
      "text/plain": [
       "<Figure size 432x288 with 1 Axes>"
      ]
     },
     "metadata": {
      "needs_background": "light"
     },
     "output_type": "display_data"
    }
   ],
   "source": [
    "sns.countplot(x='department',data=train_set, palette='hls')\n",
    "plt.title('department', fontsize = 20)\n",
    "plt.xticks(rotation = 45)\n",
    "plt.xlabel(\"Department\")\n",
    "plt.ylabel('count')"
   ]
  },
  {
   "cell_type": "code",
   "execution_count": 30,
   "metadata": {},
   "outputs": [
    {
     "data": {
      "text/plain": [
       "Sales & Marketing    7315\n",
       "Operations           4764\n",
       "Procurement          3020\n",
       "Technology           3011\n",
       "Analytics            2319\n",
       "Finance              1091\n",
       "HR                   1085\n",
       "Legal                 445\n",
       "R&D                   440\n",
       "Name: department, dtype: int64"
      ]
     },
     "execution_count": 30,
     "metadata": {},
     "output_type": "execute_result"
    }
   ],
   "source": [
    "test_set['department'].value_counts()"
   ]
  },
  {
   "cell_type": "code",
   "execution_count": 31,
   "metadata": {},
   "outputs": [
    {
     "data": {
      "text/plain": [
       "Text(0, 0.5, 'count')"
      ]
     },
     "execution_count": 31,
     "metadata": {},
     "output_type": "execute_result"
    },
    {
     "data": {
      "image/png": "[encoded data removed]",
      "text/plain": [
       "<Figure size 432x288 with 1 Axes>"
      ]
     },
     "metadata": {
      "needs_background": "light"
     },
     "output_type": "display_data"
    }
   ],
   "source": [
    "sns.countplot(x='department',data=test_set, palette='hls')\n",
    "plt.title('department', fontsize = 20)\n",
    "plt.xticks(rotation = 45)\n",
    "plt.xlabel(\"Department\")\n",
    "plt.ylabel('count')"
   ]
  },
  {
   "cell_type": "markdown",
   "metadata": {},
   "source": [
    "#### Observation\n",
    "\n",
    "Sales & Marketing team has more number of employees, then operations,technology and procurement respectively"
   ]
  },
  {
   "cell_type": "code",
   "execution_count": 32,
   "metadata": {},
   "outputs": [
    {
     "data": {
      "text/plain": [
       "array(['region_7', 'region_22', 'region_19', 'region_23', 'region_26',\n",
       "       'region_2', 'region_20', 'region_34', 'region_1', 'region_4',\n",
       "       'region_29', 'region_31', 'region_15', 'region_14', 'region_11',\n",
       "       'region_5', 'region_28', 'region_17', 'region_13', 'region_16',\n",
       "       'region_25', 'region_10', 'region_27', 'region_30', 'region_12',\n",
       "       'region_21', 'region_8', 'region_32', 'region_6', 'region_33',\n",
       "       'region_24', 'region_3', 'region_9', 'region_18'], dtype=object)"
      ]
     },
     "execution_count": 32,
     "metadata": {},
     "output_type": "execute_result"
    }
   ],
   "source": [
    "train_set['region'].unique()"
   ]
  },
  {
   "cell_type": "code",
   "execution_count": 33,
   "metadata": {},
   "outputs": [
    {
     "data": {
      "text/plain": [
       "array(['region_26', 'region_4', 'region_13', 'region_2', 'region_29',\n",
       "       'region_7', 'region_22', 'region_16', 'region_17', 'region_24',\n",
       "       'region_11', 'region_27', 'region_9', 'region_20', 'region_34',\n",
       "       'region_23', 'region_8', 'region_14', 'region_31', 'region_19',\n",
       "       'region_5', 'region_28', 'region_15', 'region_3', 'region_25',\n",
       "       'region_12', 'region_21', 'region_30', 'region_10', 'region_33',\n",
       "       'region_32', 'region_6', 'region_1', 'region_18'], dtype=object)"
      ]
     },
     "execution_count": 33,
     "metadata": {},
     "output_type": "execute_result"
    }
   ],
   "source": [
    "test_set['region'].unique()"
   ]
  },
  {
   "cell_type": "code",
   "execution_count": 34,
   "metadata": {},
   "outputs": [
    {
     "data": {
      "text/plain": [
       "region_2     12343\n",
       "region_22     6428\n",
       "region_7      4843\n",
       "region_15     2808\n",
       "region_13     2648\n",
       "region_26     2260\n",
       "region_31     1935\n",
       "region_4      1703\n",
       "region_27     1659\n",
       "region_16     1465\n",
       "region_28     1318\n",
       "region_11     1315\n",
       "region_23     1175\n",
       "region_29      994\n",
       "region_32      945\n",
       "region_19      874\n",
       "region_20      850\n",
       "region_14      827\n",
       "region_25      819\n",
       "region_17      796\n",
       "region_5       766\n",
       "region_6       690\n",
       "region_30      657\n",
       "region_8       655\n",
       "region_10      648\n",
       "region_1       610\n",
       "region_24      508\n",
       "region_12      500\n",
       "region_9       420\n",
       "region_21      411\n",
       "region_3       346\n",
       "region_34      292\n",
       "region_33      269\n",
       "region_18       31\n",
       "Name: region, dtype: int64"
      ]
     },
     "execution_count": 34,
     "metadata": {},
     "output_type": "execute_result"
    }
   ],
   "source": [
    "train_set['region'].value_counts()"
   ]
  },
  {
   "cell_type": "code",
   "execution_count": 35,
   "metadata": {},
   "outputs": [
    {
     "data": {
      "text/plain": [
       "region_2     5299\n",
       "region_22    2739\n",
       "region_7     1982\n",
       "region_13    1167\n",
       "region_15    1130\n",
       "region_26    1011\n",
       "region_31     844\n",
       "region_4      775\n",
       "region_27     710\n",
       "region_28     595\n",
       "region_16     590\n",
       "region_11     571\n",
       "region_23     516\n",
       "region_32     433\n",
       "region_29     414\n",
       "region_19     410\n",
       "region_17     361\n",
       "region_14     350\n",
       "region_5      342\n",
       "region_25     337\n",
       "region_20     326\n",
       "region_6      298\n",
       "region_30     273\n",
       "region_10     269\n",
       "region_8      269\n",
       "region_1      238\n",
       "region_24     219\n",
       "region_12     215\n",
       "region_9      180\n",
       "region_21     179\n",
       "region_34     155\n",
       "region_3      147\n",
       "region_33     126\n",
       "region_18      20\n",
       "Name: region, dtype: int64"
      ]
     },
     "execution_count": 35,
     "metadata": {},
     "output_type": "execute_result"
    }
   ],
   "source": [
    "test_set['region'].value_counts()"
   ]
  },
  {
   "cell_type": "markdown",
   "metadata": {},
   "source": [
    "#### Lets us find the relationship between is_promoted (Target variable) and region"
   ]
  },
  {
   "cell_type": "code",
   "execution_count": 36,
   "metadata": {},
   "outputs": [
    {
     "data": {
      "text/plain": [
       "Text(0, 0.5, 'Promoted or not')"
      ]
     },
     "execution_count": 36,
     "metadata": {},
     "output_type": "execute_result"
    },
    {
     "data": {
      "image/png": "[encoded data removed]",
      "text/plain": [
       "<Figure size 432x288 with 1 Axes>"
      ]
     },
     "metadata": {
      "needs_background": "light"
     },
     "output_type": "display_data"
    }
   ],
   "source": [
    "pd.crosstab(train_set.region,train_set.is_promoted).plot(kind='bar')\n",
    "plt.title('region vs is_promoted', fontsize = 20)\n",
    "plt.xticks(rotation = 45)\n",
    "plt.xlabel('region')\n",
    "plt.ylabel('Promoted or not')"
   ]
  },
  {
   "cell_type": "code",
   "execution_count": 37,
   "metadata": {},
   "outputs": [
    {
     "data": {
      "text/plain": [
       "array(['f', 'm'], dtype=object)"
      ]
     },
     "execution_count": 37,
     "metadata": {},
     "output_type": "execute_result"
    }
   ],
   "source": [
    "train_set['gender'].unique()"
   ]
  },
  {
   "cell_type": "code",
   "execution_count": 38,
   "metadata": {},
   "outputs": [
    {
     "data": {
      "text/plain": [
       "array(['m', 'f'], dtype=object)"
      ]
     },
     "execution_count": 38,
     "metadata": {},
     "output_type": "execute_result"
    }
   ],
   "source": [
    "test_set['gender'].unique()"
   ]
  },
  {
   "cell_type": "code",
   "execution_count": 39,
   "metadata": {},
   "outputs": [
    {
     "data": {
      "text/plain": [
       "m    38496\n",
       "f    16312\n",
       "Name: gender, dtype: int64"
      ]
     },
     "execution_count": 39,
     "metadata": {},
     "output_type": "execute_result"
    }
   ],
   "source": [
    "train_set['gender'].value_counts()"
   ]
  },
  {
   "cell_type": "code",
   "execution_count": 40,
   "metadata": {},
   "outputs": [
    {
     "data": {
      "text/plain": [
       "Text(0, 0.5, 'count')"
      ]
     },
     "execution_count": 40,
     "metadata": {},
     "output_type": "execute_result"
    },
    {
     "data": {
      "image/png": "[encoded data removed]",
      "text/plain": [
       "<Figure size 432x288 with 1 Axes>"
      ]
     },
     "metadata": {
      "needs_background": "light"
     },
     "output_type": "display_data"
    }
   ],
   "source": [
    "sns.countplot(x='gender',data=train_set, palette='hls')\n",
    "plt.title('gender', fontsize = 20)\n",
    "plt.xticks(rotation = 45)\n",
    "plt.xlabel(\"Gender\")\n",
    "plt.ylabel('count')"
   ]
  },
  {
   "cell_type": "code",
   "execution_count": 41,
   "metadata": {},
   "outputs": [
    {
     "data": {
      "text/plain": [
       "m    16596\n",
       "f     6894\n",
       "Name: gender, dtype: int64"
      ]
     },
     "execution_count": 41,
     "metadata": {},
     "output_type": "execute_result"
    }
   ],
   "source": [
    "test_set['gender'].value_counts()"
   ]
  },
  {
   "cell_type": "code",
   "execution_count": 42,
   "metadata": {},
   "outputs": [
    {
     "data": {
      "text/plain": [
       "Text(0, 0.5, 'count')"
      ]
     },
     "execution_count": 42,
     "metadata": {},
     "output_type": "execute_result"
    },
    {
     "data": {
      "image/png": "[encoded data removed]",
      "text/plain": [
       "<Figure size 432x288 with 1 Axes>"
      ]
     },
     "metadata": {
      "needs_background": "light"
     },
     "output_type": "display_data"
    }
   ],
   "source": [
    "sns.countplot(x='gender',data=test_set, palette='hls')\n",
    "plt.title('gender', fontsize = 20)\n",
    "plt.xticks(rotation = 45)\n",
    "plt.xlabel(\"Gender\")\n",
    "plt.ylabel('count')"
   ]
  },
  {
   "cell_type": "code",
   "execution_count": 43,
   "metadata": {},
   "outputs": [
    {
     "data": {
      "text/plain": [
       "array(['sourcing', 'other', 'referred'], dtype=object)"
      ]
     },
     "execution_count": 43,
     "metadata": {},
     "output_type": "execute_result"
    }
   ],
   "source": [
    "train_set['rec_channel'].unique()"
   ]
  },
  {
   "cell_type": "code",
   "execution_count": 44,
   "metadata": {},
   "outputs": [
    {
     "data": {
      "text/plain": [
       "other       30446\n",
       "sourcing    23220\n",
       "referred     1142\n",
       "Name: rec_channel, dtype: int64"
      ]
     },
     "execution_count": 44,
     "metadata": {},
     "output_type": "execute_result"
    }
   ],
   "source": [
    "train_set['rec_channel'].value_counts()"
   ]
  },
  {
   "cell_type": "code",
   "execution_count": 45,
   "metadata": {},
   "outputs": [
    {
     "data": {
      "text/plain": [
       "Text(0, 0.5, 'count')"
      ]
     },
     "execution_count": 45,
     "metadata": {},
     "output_type": "execute_result"
    },
    {
     "data": {
      "image/png": "[encoded data removed]",
      "text/plain": [
       "<Figure size 432x288 with 1 Axes>"
      ]
     },
     "metadata": {
      "needs_background": "light"
     },
     "output_type": "display_data"
    }
   ],
   "source": [
    "sns.countplot(x='rec_channel',data=train_set, palette='hls')\n",
    "plt.title('rec_channel', fontsize = 20)\n",
    "plt.xticks(rotation = 45)\n",
    "plt.xlabel(\"Recruitment Channel\")\n",
    "plt.ylabel('count')"
   ]
  },
  {
   "cell_type": "code",
   "execution_count": 46,
   "metadata": {},
   "outputs": [
    {
     "data": {
      "text/plain": [
       "other       13078\n",
       "sourcing     9961\n",
       "referred      451\n",
       "Name: rec_channel, dtype: int64"
      ]
     },
     "execution_count": 46,
     "metadata": {},
     "output_type": "execute_result"
    }
   ],
   "source": [
    "test_set['rec_channel'].value_counts()"
   ]
  },
  {
   "cell_type": "code",
   "execution_count": 47,
   "metadata": {},
   "outputs": [
    {
     "data": {
      "text/plain": [
       "Text(0, 0.5, 'count')"
      ]
     },
     "execution_count": 47,
     "metadata": {},
     "output_type": "execute_result"
    },
    {
     "data": {
      "image/png": "[encoded data removed]",
      "text/plain": [
       "<Figure size 432x288 with 1 Axes>"
      ]
     },
     "metadata": {
      "needs_background": "light"
     },
     "output_type": "display_data"
    }
   ],
   "source": [
    "sns.countplot(x='rec_channel',data=test_set, palette='hls')\n",
    "plt.title('rec_channel', fontsize = 20)\n",
    "plt.xticks(rotation = 45)\n",
    "plt.xlabel(\"Recruitment Channel\")\n",
    "plt.ylabel('count')"
   ]
  },
  {
   "cell_type": "markdown",
   "metadata": {},
   "source": [
    "#### Observation\n",
    "\n",
    "More number of employees are hiered from other sources and very less employees ae hiered from reference"
   ]
  },
  {
   "cell_type": "code",
   "execution_count": 48,
   "metadata": {},
   "outputs": [
    {
     "data": {
      "text/plain": [
       "array([ 1,  2,  3,  4,  7,  5,  6,  8, 10,  9], dtype=int64)"
      ]
     },
     "execution_count": 48,
     "metadata": {},
     "output_type": "execute_result"
    }
   ],
   "source": [
    "train_set['training'].unique()"
   ]
  },
  {
   "cell_type": "code",
   "execution_count": 49,
   "metadata": {},
   "outputs": [
    {
     "data": {
      "text/plain": [
       "1     44378\n",
       "2      7987\n",
       "3      1776\n",
       "4       468\n",
       "5       128\n",
       "6        44\n",
       "7        12\n",
       "10        5\n",
       "9         5\n",
       "8         5\n",
       "Name: training, dtype: int64"
      ]
     },
     "execution_count": 49,
     "metadata": {},
     "output_type": "execute_result"
    }
   ],
   "source": [
    "train_set['training'].value_counts()"
   ]
  },
  {
   "cell_type": "code",
   "execution_count": 50,
   "metadata": {},
   "outputs": [
    {
     "data": {
      "text/plain": [
       "Text(0, 0.5, 'count')"
      ]
     },
     "execution_count": 50,
     "metadata": {},
     "output_type": "execute_result"
    },
    {
     "data": {
      "image/png": "[encoded data removed]",
      "text/plain": [
       "<Figure size 432x288 with 1 Axes>"
      ]
     },
     "metadata": {
      "needs_background": "light"
     },
     "output_type": "display_data"
    }
   ],
   "source": [
    "sns.countplot(x='training',data=train_set, palette='hls')\n",
    "plt.title('training', fontsize = 20)\n",
    "plt.xticks(rotation = 45)\n",
    "plt.xlabel(\"Number of trainings completed\")\n",
    "plt.ylabel('count')"
   ]
  },
  {
   "cell_type": "code",
   "execution_count": 51,
   "metadata": {},
   "outputs": [
    {
     "data": {
      "text/plain": [
       "1    18928\n",
       "2     3544\n",
       "3      755\n",
       "4      190\n",
       "5       36\n",
       "6       24\n",
       "7        9\n",
       "9        2\n",
       "8        2\n",
       "Name: training, dtype: int64"
      ]
     },
     "execution_count": 51,
     "metadata": {},
     "output_type": "execute_result"
    }
   ],
   "source": [
    "test_set['training'].value_counts()"
   ]
  },
  {
   "cell_type": "code",
   "execution_count": 52,
   "metadata": {},
   "outputs": [
    {
     "data": {
      "text/plain": [
       "Text(0, 0.5, 'count')"
      ]
     },
     "execution_count": 52,
     "metadata": {},
     "output_type": "execute_result"
    },
    {
     "data": {
      "image/png": "[encoded data removed]",
      "text/plain": [
       "<Figure size 432x288 with 1 Axes>"
      ]
     },
     "metadata": {
      "needs_background": "light"
     },
     "output_type": "display_data"
    }
   ],
   "source": [
    "sns.countplot(x='training',data=test_set, palette='hls')\n",
    "plt.title('training', fontsize = 20)\n",
    "plt.xticks(rotation = 45)\n",
    "plt.xlabel(\"Number of trainings completed\")\n",
    "plt.ylabel('count')"
   ]
  },
  {
   "cell_type": "markdown",
   "metadata": {},
   "source": [
    "#### observation\n",
    "\n",
    "We have more number of employees who completed 1 training "
   ]
  },
  {
   "cell_type": "code",
   "execution_count": 53,
   "metadata": {},
   "outputs": [
    {
     "data": {
      "text/plain": [
       "Index(['department', 'region', 'education', 'gender', 'rec_channel',\n",
       "       'training', 'age', 'prev_year', 'len_service', 'KPI', 'awards',\n",
       "       'training_score', 'is_promoted'],\n",
       "      dtype='object')"
      ]
     },
     "execution_count": 53,
     "metadata": {},
     "output_type": "execute_result"
    }
   ],
   "source": [
    "train_set.columns"
   ]
  },
  {
   "cell_type": "code",
   "execution_count": 54,
   "metadata": {},
   "outputs": [],
   "source": [
    "for i in range(len(train_set)):\n",
    "    if train_set.loc[i,\"age\"] >= 20.0 and train_set.loc[i,\"age\"]<30.0:\n",
    "        train_set.loc[i, \"age\"] = \"One\"\n",
    "    elif train_set.loc[i,\"age\"] >= 30.0 and train_set.loc[i,\"age\"]<40.0:\n",
    "        train_set.loc[i, \"age\"] = \"Two\"\n",
    "    elif train_set.loc[i,\"age\"] >= 40.0 and train_set.loc[i,\"age\"]<50.0:\n",
    "        train_set.loc[i, \"age\"] = \"Three\"\n",
    "    elif train_set.loc[i,\"age\"] >= 50.0 and train_set.loc[i,\"age\"]<60.0:\n",
    "        train_set.loc[i, \"age\"] = \"Four\"\n",
    "    elif train_set.loc[i,\"age\"] >= 60.0 and train_set.loc[i,\"age\"]<70.0:\n",
    "        train_set.loc[i, \"age\"] = \"Five\""
   ]
  },
  {
   "cell_type": "code",
   "execution_count": 55,
   "metadata": {},
   "outputs": [],
   "source": [
    "for i in range(len(test_set)):\n",
    "    if test_set.loc[i,\"age\"] >= 20.0 and test_set.loc[i,\"age\"]<30.0:\n",
    "        test_set.loc[i, \"age\"] = \"One\"\n",
    "    elif test_set.loc[i,\"age\"] >= 30.0 and test_set.loc[i,\"age\"]<40.0:\n",
    "        test_set.loc[i, \"age\"] = \"Two\"\n",
    "    elif test_set.loc[i,\"age\"] >= 40.0 and test_set.loc[i,\"age\"]<50.0:\n",
    "        test_set.loc[i, \"age\"] = \"Three\"\n",
    "    elif test_set.loc[i,\"age\"] >= 50.0 and test_set.loc[i,\"age\"]<60.0:\n",
    "        test_set.loc[i, \"age\"] = \"Four\"\n",
    "    elif test_set.loc[i,\"age\"] >= 60.0 and test_set.loc[i,\"age\"]<70.0:\n",
    "        test_set.loc[i, \"age\"] = \"Five\""
   ]
  },
  {
   "cell_type": "code",
   "execution_count": 56,
   "metadata": {},
   "outputs": [
    {
     "data": {
      "text/plain": [
       "array([ 8,  4,  7, 10,  2,  5,  6,  1,  3, 16,  9, 11, 26, 12, 17, 14, 13,\n",
       "       19, 15, 23, 18, 20, 22, 25, 28, 24, 31, 21, 29, 30, 34, 27, 33, 32,\n",
       "       37], dtype=int64)"
      ]
     },
     "execution_count": 56,
     "metadata": {},
     "output_type": "execute_result"
    }
   ],
   "source": [
    "train_set['len_service'].unique()"
   ]
  },
  {
   "cell_type": "code",
   "execution_count": 57,
   "metadata": {},
   "outputs": [
    {
     "data": {
      "text/plain": [
       "Text(0, 0.5, 'Promoted or not')"
      ]
     },
     "execution_count": 57,
     "metadata": {},
     "output_type": "execute_result"
    },
    {
     "data": {
      "image/png": "[encoded data removed]",
      "text/plain": [
       "<Figure size 432x288 with 1 Axes>"
      ]
     },
     "metadata": {
      "needs_background": "light"
     },
     "output_type": "display_data"
    }
   ],
   "source": [
    "pd.crosstab(train_set.len_service,train_set.is_promoted).plot(kind='bar')\n",
    "plt.title('Length of Service vs is_promoted', fontsize = 20)\n",
    "plt.xticks(rotation = 45)\n",
    "plt.xlabel('Length of Service')\n",
    "plt.ylabel('Promoted or not')"
   ]
  },
  {
   "cell_type": "code",
   "execution_count": 58,
   "metadata": {},
   "outputs": [
    {
     "data": {
      "text/plain": [
       "<matplotlib.axes._subplots.AxesSubplot at 0x1eac94c0c88>"
      ]
     },
     "execution_count": 58,
     "metadata": {},
     "output_type": "execute_result"
    },
    {
     "data": {
      "image/png": "[encoded data removed]",
      "text/plain": [
       "<Figure size 432x288 with 1 Axes>"
      ]
     },
     "metadata": {
      "needs_background": "light"
     },
     "output_type": "display_data"
    }
   ],
   "source": [
    "sns.distplot(train_set['len_service'])"
   ]
  },
  {
   "cell_type": "code",
   "execution_count": 59,
   "metadata": {},
   "outputs": [],
   "source": [
    "train_set['len_service'] = np.log(train_set['len_service'])"
   ]
  },
  {
   "cell_type": "code",
   "execution_count": 60,
   "metadata": {},
   "outputs": [
    {
     "data": {
      "text/plain": [
       "0    2.079442\n",
       "1    1.386294\n",
       "2    1.945910\n",
       "3    2.302585\n",
       "4    0.693147\n",
       "5    1.945910\n",
       "6    1.609438\n",
       "7    1.791759\n",
       "8    1.609438\n",
       "9    1.609438\n",
       "Name: len_service, dtype: float64"
      ]
     },
     "execution_count": 60,
     "metadata": {},
     "output_type": "execute_result"
    }
   ],
   "source": [
    "train_set['len_service'].head(10)"
   ]
  },
  {
   "cell_type": "code",
   "execution_count": 61,
   "metadata": {},
   "outputs": [
    {
     "data": {
      "text/plain": [
       "<matplotlib.axes._subplots.AxesSubplot at 0x1eac97d9860>"
      ]
     },
     "execution_count": 61,
     "metadata": {},
     "output_type": "execute_result"
    },
    {
     "data": {
      "image/png": "[encoded data removed]",
      "text/plain": [
       "<Figure size 432x288 with 1 Axes>"
      ]
     },
     "metadata": {
      "needs_background": "light"
     },
     "output_type": "display_data"
    }
   ],
   "source": [
    "sns.distplot(train_set['len_service'])"
   ]
  },
  {
   "cell_type": "code",
   "execution_count": 62,
   "metadata": {},
   "outputs": [
    {
     "data": {
      "text/plain": [
       "array([1, 0], dtype=int64)"
      ]
     },
     "execution_count": 62,
     "metadata": {},
     "output_type": "execute_result"
    }
   ],
   "source": [
    "train_set['KPI'].unique()"
   ]
  },
  {
   "cell_type": "code",
   "execution_count": 63,
   "metadata": {},
   "outputs": [
    {
     "data": {
      "text/plain": [
       "0    35517\n",
       "1    19291\n",
       "Name: KPI, dtype: int64"
      ]
     },
     "execution_count": 63,
     "metadata": {},
     "output_type": "execute_result"
    }
   ],
   "source": [
    "train_set['KPI'].value_counts()"
   ]
  },
  {
   "cell_type": "code",
   "execution_count": 64,
   "metadata": {},
   "outputs": [
    {
     "data": {
      "text/plain": [
       "Text(0, 0.5, 'count')"
      ]
     },
     "execution_count": 64,
     "metadata": {},
     "output_type": "execute_result"
    },
    {
     "data": {
      "image/png": "[encoded data removed]",
      "text/plain": [
       "<Figure size 432x288 with 1 Axes>"
      ]
     },
     "metadata": {
      "needs_background": "light"
     },
     "output_type": "display_data"
    }
   ],
   "source": [
    "sns.countplot(x='KPI',data=train_set, palette='hls')\n",
    "plt.title('KPI', fontsize = 20)\n",
    "plt.xticks(rotation = 45)\n",
    "plt.xlabel(\"KPI\")\n",
    "plt.ylabel('count')"
   ]
  },
  {
   "cell_type": "code",
   "execution_count": 65,
   "metadata": {},
   "outputs": [
    {
     "data": {
      "text/plain": [
       "array([1, 0], dtype=int64)"
      ]
     },
     "execution_count": 65,
     "metadata": {},
     "output_type": "execute_result"
    }
   ],
   "source": [
    "test_set['KPI'].unique()"
   ]
  },
  {
   "cell_type": "code",
   "execution_count": 66,
   "metadata": {},
   "outputs": [
    {
     "data": {
      "text/plain": [
       "Text(0, 0.5, 'count')"
      ]
     },
     "execution_count": 66,
     "metadata": {},
     "output_type": "execute_result"
    },
    {
     "data": {
      "image/png": "[encoded data removed]",
      "text/plain": [
       "<Figure size 432x288 with 1 Axes>"
      ]
     },
     "metadata": {
      "needs_background": "light"
     },
     "output_type": "display_data"
    }
   ],
   "source": [
    "sns.countplot(x='KPI',data=test_set, palette='hls')\n",
    "plt.title('KPI', fontsize = 20)\n",
    "plt.xticks(rotation = 45)\n",
    "plt.xlabel(\"KPI\")\n",
    "plt.ylabel('count')"
   ]
  },
  {
   "cell_type": "code",
   "execution_count": 67,
   "metadata": {},
   "outputs": [
    {
     "data": {
      "text/plain": [
       "array([0, 1], dtype=int64)"
      ]
     },
     "execution_count": 67,
     "metadata": {},
     "output_type": "execute_result"
    }
   ],
   "source": [
    "train_set['awards'].unique()"
   ]
  },
  {
   "cell_type": "code",
   "execution_count": 68,
   "metadata": {},
   "outputs": [
    {
     "data": {
      "text/plain": [
       "Text(0, 0.5, 'count')"
      ]
     },
     "execution_count": 68,
     "metadata": {},
     "output_type": "execute_result"
    },
    {
     "data": {
      "image/png": "[encoded data removed]",
      "text/plain": [
       "<Figure size 432x288 with 1 Axes>"
      ]
     },
     "metadata": {
      "needs_background": "light"
     },
     "output_type": "display_data"
    }
   ],
   "source": [
    "sns.countplot(x='awards',data=train_set, palette='hls')\n",
    "plt.title('Awards won', fontsize = 20)\n",
    "plt.xticks(rotation = 45)\n",
    "plt.xlabel(\"Awards\")\n",
    "plt.ylabel('count')"
   ]
  },
  {
   "cell_type": "code",
   "execution_count": 69,
   "metadata": {},
   "outputs": [
    {
     "data": {
      "text/plain": [
       "Text(0, 0.5, 'count')"
      ]
     },
     "execution_count": 69,
     "metadata": {},
     "output_type": "execute_result"
    },
    {
     "data": {
      "image/png": "[encoded data removed]",
      "text/plain": [
       "<Figure size 432x288 with 1 Axes>"
      ]
     },
     "metadata": {
      "needs_background": "light"
     },
     "output_type": "display_data"
    }
   ],
   "source": [
    "sns.countplot(x='awards',data=test_set, palette='hls')\n",
    "plt.title('Awards won', fontsize = 20)\n",
    "plt.xticks(rotation = 45)\n",
    "plt.xlabel(\"Awards\")\n",
    "plt.ylabel('count')"
   ]
  },
  {
   "cell_type": "code",
   "execution_count": 70,
   "metadata": {},
   "outputs": [
    {
     "data": {
      "text/plain": [
       "array([49, 60, 50, 73, 85, 59, 63, 83, 54, 77, 80, 84, 51, 46, 75, 57, 70,\n",
       "       68, 79, 44, 72, 61, 48, 58, 87, 47, 52, 88, 71, 65, 62, 53, 78, 91,\n",
       "       82, 69, 55, 74, 86, 90, 92, 67, 89, 56, 76, 81, 45, 64, 39, 94, 93,\n",
       "       66, 95, 42, 96, 40, 99, 43, 97, 41, 98], dtype=int64)"
      ]
     },
     "execution_count": 70,
     "metadata": {},
     "output_type": "execute_result"
    }
   ],
   "source": [
    "train_set['training_score'].unique()"
   ]
  },
  {
   "cell_type": "code",
   "execution_count": 71,
   "metadata": {},
   "outputs": [
    {
     "data": {
      "text/plain": [
       "<matplotlib.axes._subplots.AxesSubplot at 0x1eac96e0eb8>"
      ]
     },
     "execution_count": 71,
     "metadata": {},
     "output_type": "execute_result"
    },
    {
     "data": {
      "image/png": "[encoded data removed]",
      "text/plain": [
       "<Figure size 432x288 with 1 Axes>"
      ]
     },
     "metadata": {
      "needs_background": "light"
     },
     "output_type": "display_data"
    }
   ],
   "source": [
    "sns.distplot(train_set['training_score'])"
   ]
  },
  {
   "cell_type": "code",
   "execution_count": 72,
   "metadata": {},
   "outputs": [
    {
     "data": {
      "text/plain": [
       "department         gender\n",
       "Analytics          f         0.120858\n",
       "                   m         0.092994\n",
       "Finance            f         0.080764\n",
       "                   m         0.081402\n",
       "HR                 f         0.057654\n",
       "                   m         0.055241\n",
       "Legal              f         0.040268\n",
       "                   m         0.052809\n",
       "Operations         f         0.094505\n",
       "                   m         0.087093\n",
       "Procurement        f         0.117128\n",
       "                   m         0.078681\n",
       "R&D                f         0.105263\n",
       "                   m         0.066879\n",
       "Sales & Marketing  f         0.055802\n",
       "                   m         0.075771\n",
       "Technology         f         0.099354\n",
       "                   m         0.112874\n",
       "Name: is_promoted, dtype: float64"
      ]
     },
     "execution_count": 72,
     "metadata": {},
     "output_type": "execute_result"
    }
   ],
   "source": [
    "train_set.groupby(['department','gender'])['is_promoted'].mean()"
   ]
  },
  {
   "cell_type": "code",
   "execution_count": 73,
   "metadata": {},
   "outputs": [
    {
     "data": {
      "text/plain": [
       "region\n",
       "region_1     0.095082\n",
       "region_10    0.078704\n",
       "region_11    0.056274\n",
       "region_12    0.066000\n",
       "region_13    0.086858\n",
       "region_14    0.074970\n",
       "region_15    0.079060\n",
       "region_16    0.069625\n",
       "region_17    0.136935\n",
       "region_18    0.032258\n",
       "region_19    0.060641\n",
       "region_2     0.080126\n",
       "region_20    0.057647\n",
       "region_21    0.043796\n",
       "region_22    0.114188\n",
       "region_23    0.116596\n",
       "region_24    0.035433\n",
       "region_25    0.125763\n",
       "region_26    0.063274\n",
       "region_27    0.078963\n",
       "region_28    0.116844\n",
       "region_29    0.043260\n",
       "region_3     0.106936\n",
       "region_30    0.089802\n",
       "region_31    0.056848\n",
       "region_32    0.042328\n",
       "region_33    0.037175\n",
       "region_34    0.027397\n",
       "region_4     0.144451\n",
       "region_5     0.045692\n",
       "region_6     0.046377\n",
       "region_7     0.106546\n",
       "region_8     0.080916\n",
       "region_9     0.019048\n",
       "Name: is_promoted, dtype: float64"
      ]
     },
     "execution_count": 73,
     "metadata": {},
     "output_type": "execute_result"
    }
   ],
   "source": [
    "train_set.groupby(['region'])['is_promoted'].mean()"
   ]
  },
  {
   "cell_type": "code",
   "execution_count": 74,
   "metadata": {},
   "outputs": [
    {
     "data": {
      "text/plain": [
       "training  KPI\n",
       "1         0      0.041271\n",
       "          1      0.170940\n",
       "2         0      0.035642\n",
       "          1      0.160187\n",
       "3         0      0.029150\n",
       "          1      0.158965\n",
       "4         0      0.020000\n",
       "          1      0.161017\n",
       "5         0      0.000000\n",
       "          1      0.176471\n",
       "6         0      0.000000\n",
       "          1      0.250000\n",
       "7         0      0.000000\n",
       "          1      0.000000\n",
       "8         0      0.000000\n",
       "          1      0.000000\n",
       "9         0      0.000000\n",
       "10        0      0.000000\n",
       "Name: is_promoted, dtype: float64"
      ]
     },
     "execution_count": 74,
     "metadata": {},
     "output_type": "execute_result"
    }
   ],
   "source": [
    "train_set.groupby(['training','KPI'])['is_promoted'].mean()"
   ]
  },
  {
   "cell_type": "code",
   "execution_count": 75,
   "metadata": {},
   "outputs": [
    {
     "data": {
      "text/plain": [
       "gender\n",
       "f    0.089934\n",
       "m    0.083151\n",
       "Name: is_promoted, dtype: float64"
      ]
     },
     "execution_count": 75,
     "metadata": {},
     "output_type": "execute_result"
    }
   ],
   "source": [
    "train_set.groupby(['gender'])['is_promoted'].mean()"
   ]
  },
  {
   "cell_type": "code",
   "execution_count": 76,
   "metadata": {},
   "outputs": [],
   "source": [
    "for col in train_set.columns:\n",
    "    if(train_set[col].dtype == 'object'):\n",
    "        temp_mode = train_set.loc[:,col].mode()[0]\n",
    "        train_set[col] = train_set[col].fillna(temp_mode)\n",
    "    else:\n",
    "        temp_median = train_set.loc[:,col].median()\n",
    "        train_set[col].fillna(temp_median, inplace = True)"
   ]
  },
  {
   "cell_type": "code",
   "execution_count": 77,
   "metadata": {},
   "outputs": [
    {
     "data": {
      "text/plain": [
       "department        0\n",
       "region            0\n",
       "education         0\n",
       "gender            0\n",
       "rec_channel       0\n",
       "training          0\n",
       "age               0\n",
       "prev_year         0\n",
       "len_service       0\n",
       "KPI               0\n",
       "awards            0\n",
       "training_score    0\n",
       "is_promoted       0\n",
       "dtype: int64"
      ]
     },
     "execution_count": 77,
     "metadata": {},
     "output_type": "execute_result"
    }
   ],
   "source": [
    "train_set.isnull().sum()"
   ]
  },
  {
   "cell_type": "code",
   "execution_count": 78,
   "metadata": {},
   "outputs": [],
   "source": [
    "for col in test_set.columns:\n",
    "    if(test_set[col].dtype == 'object'):\n",
    "        temp_mode = test_set.loc[:,col].mode()[0]\n",
    "        test_set[col] = test_set[col].fillna(temp_mode)\n",
    "    else:\n",
    "        temp_median = test_set.loc[:,col].median()\n",
    "        test_set[col].fillna(temp_median, inplace = True)"
   ]
  },
  {
   "cell_type": "code",
   "execution_count": 79,
   "metadata": {},
   "outputs": [
    {
     "data": {
      "text/plain": [
       "department        0\n",
       "region            0\n",
       "education         0\n",
       "gender            0\n",
       "rec_channel       0\n",
       "training          0\n",
       "age               0\n",
       "prev_year         0\n",
       "len_service       0\n",
       "KPI               0\n",
       "awards            0\n",
       "training_score    0\n",
       "dtype: int64"
      ]
     },
     "execution_count": 79,
     "metadata": {},
     "output_type": "execute_result"
    }
   ],
   "source": [
    "test_set.isnull().sum()"
   ]
  },
  {
   "cell_type": "code",
   "execution_count": 80,
   "metadata": {},
   "outputs": [
    {
     "data": {
      "text/plain": [
       "education         gender\n",
       "Bachelor's        f         0.083948\n",
       "                  m         0.078540\n",
       "Below Secondary   f         0.072664\n",
       "                  m         0.089147\n",
       "Master's & above  f         0.105065\n",
       "                  m         0.095496\n",
       "Name: is_promoted, dtype: float64"
      ]
     },
     "execution_count": 80,
     "metadata": {},
     "output_type": "execute_result"
    }
   ],
   "source": [
    "train_set.groupby(['education','gender'])['is_promoted'].mean()"
   ]
  },
  {
   "cell_type": "markdown",
   "metadata": {},
   "source": [
    "### Label Encoding/one hot encoding"
   ]
  },
  {
   "cell_type": "code",
   "execution_count": 81,
   "metadata": {},
   "outputs": [],
   "source": [
    "train_set['education'].replace(\"Master's & above\",2,inplace=True)\n",
    "train_set['education'].replace(\"Bachelor's\",1,inplace=True)\n",
    "train_set['education'].replace(\"Below Secondary\",0,inplace=True)"
   ]
  },
  {
   "cell_type": "code",
   "execution_count": 82,
   "metadata": {},
   "outputs": [],
   "source": [
    "test_set['education'].replace(\"Master's & above\",2,inplace=True)\n",
    "test_set['education'].replace(\"Bachelor's\",1,inplace=True)\n",
    "test_set['education'].replace(\"Below Secondary\",0,inplace=True)"
   ]
  },
  {
   "cell_type": "code",
   "execution_count": 83,
   "metadata": {},
   "outputs": [],
   "source": [
    "Gender_final={'m':1,'f':2}\n",
    "train_set.gender=[Gender_final[item]for item in train_set.gender]\n",
    "test_set.gender = [Gender_final[item] for item in test_set.gender]"
   ]
  },
  {
   "cell_type": "code",
   "execution_count": 84,
   "metadata": {},
   "outputs": [
    {
     "data": {
      "text/plain": [
       "array(['Two', 'Three', 'One', 'Four', 'Five'], dtype=object)"
      ]
     },
     "execution_count": 84,
     "metadata": {},
     "output_type": "execute_result"
    }
   ],
   "source": [
    "train_set['age'].unique()"
   ]
  },
  {
   "cell_type": "code",
   "execution_count": 85,
   "metadata": {},
   "outputs": [
    {
     "data": {
      "text/html": [
       "<div>\n",
       "<style scoped>\n",
       "    .dataframe tbody tr th:only-of-type {\n",
       "        vertical-align: middle;\n",
       "    }\n",
       "\n",
       "    .dataframe tbody tr th {\n",
       "        vertical-align: top;\n",
       "    }\n",
       "\n",
       "    .dataframe thead th {\n",
       "        text-align: right;\n",
       "    }\n",
       "</style>\n",
       "<table border=\"1\" class=\"dataframe\">\n",
       "  <thead>\n",
       "    <tr style=\"text-align: right;\">\n",
       "      <th></th>\n",
       "      <th>department</th>\n",
       "      <th>region</th>\n",
       "      <th>rec_channel</th>\n",
       "      <th>age</th>\n",
       "    </tr>\n",
       "  </thead>\n",
       "  <tbody>\n",
       "    <tr>\n",
       "      <th>count</th>\n",
       "      <td>54808</td>\n",
       "      <td>54808</td>\n",
       "      <td>54808</td>\n",
       "      <td>54808</td>\n",
       "    </tr>\n",
       "    <tr>\n",
       "      <th>unique</th>\n",
       "      <td>9</td>\n",
       "      <td>34</td>\n",
       "      <td>3</td>\n",
       "      <td>5</td>\n",
       "    </tr>\n",
       "    <tr>\n",
       "      <th>top</th>\n",
       "      <td>Sales &amp; Marketing</td>\n",
       "      <td>region_2</td>\n",
       "      <td>other</td>\n",
       "      <td>Two</td>\n",
       "    </tr>\n",
       "    <tr>\n",
       "      <th>freq</th>\n",
       "      <td>16840</td>\n",
       "      <td>12343</td>\n",
       "      <td>30446</td>\n",
       "      <td>28030</td>\n",
       "    </tr>\n",
       "  </tbody>\n",
       "</table>\n",
       "</div>"
      ],
      "text/plain": [
       "               department    region rec_channel    age\n",
       "count               54808     54808       54808  54808\n",
       "unique                  9        34           3      5\n",
       "top     Sales & Marketing  region_2       other    Two\n",
       "freq                16840     12343       30446  28030"
      ]
     },
     "execution_count": 85,
     "metadata": {},
     "output_type": "execute_result"
    }
   ],
   "source": [
    "train_set.describe(include = 'object')"
   ]
  },
  {
   "cell_type": "code",
   "execution_count": 86,
   "metadata": {},
   "outputs": [],
   "source": [
    "from sklearn.preprocessing import LabelEncoder\n",
    "LabelEncoder = LabelEncoder()"
   ]
  },
  {
   "cell_type": "code",
   "execution_count": 87,
   "metadata": {},
   "outputs": [],
   "source": [
    "train_set['rec_channel']= LabelEncoder.fit_transform(train_set['rec_channel']) \n",
    "test_set['rec_channel']= LabelEncoder.fit_transform(test_set['rec_channel'])"
   ]
  },
  {
   "cell_type": "code",
   "execution_count": 88,
   "metadata": {},
   "outputs": [
    {
     "data": {
      "text/plain": [
       "training_score\n",
       "39    0.000000\n",
       "40    0.000000\n",
       "41    0.038462\n",
       "42    0.032258\n",
       "43    0.039773\n",
       "44    0.029851\n",
       "45    0.045521\n",
       "46    0.031690\n",
       "47    0.045246\n",
       "48    0.039393\n",
       "49    0.037300\n",
       "50    0.041237\n",
       "51    0.043886\n",
       "52    0.038793\n",
       "53    0.033233\n",
       "54    0.049147\n",
       "55    0.053899\n",
       "56    0.064486\n",
       "57    0.057063\n",
       "58    0.068493\n",
       "59    0.070252\n",
       "60    0.064037\n",
       "61    0.077701\n",
       "62    0.080690\n",
       "63    0.092067\n",
       "64    0.114407\n",
       "65    0.108514\n",
       "66    0.091379\n",
       "67    0.101648\n",
       "68    0.082353\n",
       "        ...   \n",
       "70    0.116588\n",
       "71    0.120267\n",
       "72    0.118621\n",
       "73    0.112811\n",
       "74    0.170901\n",
       "75    0.121588\n",
       "76    0.091085\n",
       "77    0.093257\n",
       "78    0.094319\n",
       "79    0.072414\n",
       "80    0.099502\n",
       "81    0.109801\n",
       "82    0.104354\n",
       "83    0.106010\n",
       "84    0.102740\n",
       "85    0.097948\n",
       "86    0.131579\n",
       "87    0.128244\n",
       "88    0.184685\n",
       "89    0.279070\n",
       "90    0.427027\n",
       "91    0.649573\n",
       "92    0.818182\n",
       "93    0.892857\n",
       "94    0.969231\n",
       "95    1.000000\n",
       "96    0.979167\n",
       "97    1.000000\n",
       "98    1.000000\n",
       "99    1.000000\n",
       "Name: is_promoted, Length: 61, dtype: float64"
      ]
     },
     "execution_count": 88,
     "metadata": {},
     "output_type": "execute_result"
    }
   ],
   "source": [
    "train_set.groupby(['training_score'])['is_promoted'].mean()"
   ]
  },
  {
   "cell_type": "code",
   "execution_count": 89,
   "metadata": {},
   "outputs": [],
   "source": [
    "train_set['age']= LabelEncoder.fit_transform(train_set['age']) \n",
    "test_set['age']= LabelEncoder.fit_transform(test_set['age'])"
   ]
  },
  {
   "cell_type": "code",
   "execution_count": 90,
   "metadata": {},
   "outputs": [
    {
     "data": {
      "text/html": [
       "<div>\n",
       "<style scoped>\n",
       "    .dataframe tbody tr th:only-of-type {\n",
       "        vertical-align: middle;\n",
       "    }\n",
       "\n",
       "    .dataframe tbody tr th {\n",
       "        vertical-align: top;\n",
       "    }\n",
       "\n",
       "    .dataframe thead th {\n",
       "        text-align: right;\n",
       "    }\n",
       "</style>\n",
       "<table border=\"1\" class=\"dataframe\">\n",
       "  <thead>\n",
       "    <tr style=\"text-align: right;\">\n",
       "      <th></th>\n",
       "      <th>department</th>\n",
       "      <th>region</th>\n",
       "    </tr>\n",
       "  </thead>\n",
       "  <tbody>\n",
       "    <tr>\n",
       "      <th>count</th>\n",
       "      <td>23490</td>\n",
       "      <td>23490</td>\n",
       "    </tr>\n",
       "    <tr>\n",
       "      <th>unique</th>\n",
       "      <td>9</td>\n",
       "      <td>34</td>\n",
       "    </tr>\n",
       "    <tr>\n",
       "      <th>top</th>\n",
       "      <td>Sales &amp; Marketing</td>\n",
       "      <td>region_2</td>\n",
       "    </tr>\n",
       "    <tr>\n",
       "      <th>freq</th>\n",
       "      <td>7315</td>\n",
       "      <td>5299</td>\n",
       "    </tr>\n",
       "  </tbody>\n",
       "</table>\n",
       "</div>"
      ],
      "text/plain": [
       "               department    region\n",
       "count               23490     23490\n",
       "unique                  9        34\n",
       "top     Sales & Marketing  region_2\n",
       "freq                 7315      5299"
      ]
     },
     "execution_count": 90,
     "metadata": {},
     "output_type": "execute_result"
    }
   ],
   "source": [
    "test_set.describe(include = 'object')"
   ]
  },
  {
   "cell_type": "code",
   "execution_count": 91,
   "metadata": {},
   "outputs": [],
   "source": [
    "Data= pd.get_dummies(train_set, drop_first= True)"
   ]
  },
  {
   "cell_type": "code",
   "execution_count": 92,
   "metadata": {},
   "outputs": [],
   "source": [
    "test_data = pd.get_dummies(test_set, drop_first = True)"
   ]
  },
  {
   "cell_type": "code",
   "execution_count": 93,
   "metadata": {},
   "outputs": [
    {
     "data": {
      "text/plain": [
       "(54808, 52)"
      ]
     },
     "execution_count": 93,
     "metadata": {},
     "output_type": "execute_result"
    }
   ],
   "source": [
    "Data.shape"
   ]
  },
  {
   "cell_type": "code",
   "execution_count": 94,
   "metadata": {},
   "outputs": [
    {
     "data": {
      "text/plain": [
       "(23490, 51)"
      ]
     },
     "execution_count": 94,
     "metadata": {},
     "output_type": "execute_result"
    }
   ],
   "source": [
    "test_data.shape"
   ]
  },
  {
   "cell_type": "markdown",
   "metadata": {},
   "source": [
    "### Apply SMOTE technique to handle imbalanced dataset"
   ]
  },
  {
   "cell_type": "code",
   "execution_count": 95,
   "metadata": {},
   "outputs": [],
   "source": [
    "from imblearn.over_sampling import SMOTE "
   ]
  },
  {
   "cell_type": "code",
   "execution_count": 96,
   "metadata": {},
   "outputs": [],
   "source": [
    "Train_x = Data.drop(['is_promoted'], axis = 1).copy()\n",
    "Train_y = Data['is_promoted'].copy()"
   ]
  },
  {
   "cell_type": "code",
   "execution_count": 97,
   "metadata": {},
   "outputs": [],
   "source": [
    "Train_x_overfit, Train_y_overfit = SMOTE().fit_sample(Train_x, Train_y.values.ravel())"
   ]
  },
  {
   "cell_type": "code",
   "execution_count": 98,
   "metadata": {},
   "outputs": [
    {
     "data": {
      "text/plain": [
       "(100280, 51)"
      ]
     },
     "execution_count": 98,
     "metadata": {},
     "output_type": "execute_result"
    }
   ],
   "source": [
    "Train_x_overfit.shape"
   ]
  },
  {
   "cell_type": "code",
   "execution_count": 99,
   "metadata": {},
   "outputs": [
    {
     "data": {
      "text/plain": [
       "(100280,)"
      ]
     },
     "execution_count": 99,
     "metadata": {},
     "output_type": "execute_result"
    }
   ],
   "source": [
    "Train_y_overfit.shape"
   ]
  },
  {
   "cell_type": "markdown",
   "metadata": {},
   "source": [
    "### Splitting"
   ]
  },
  {
   "cell_type": "code",
   "execution_count": 100,
   "metadata": {},
   "outputs": [],
   "source": [
    "from sklearn.model_selection import train_test_split"
   ]
  },
  {
   "cell_type": "code",
   "execution_count": 101,
   "metadata": {},
   "outputs": [],
   "source": [
    "x_train, x_test, y_train, y_test = train_test_split(Train_x_overfit, Train_y_overfit, test_size = 0.2, random_state = 0)"
   ]
  },
  {
   "cell_type": "code",
   "execution_count": 102,
   "metadata": {},
   "outputs": [],
   "source": [
    "from sklearn.preprocessing import StandardScaler"
   ]
  },
  {
   "cell_type": "code",
   "execution_count": 103,
   "metadata": {},
   "outputs": [],
   "source": [
    "sc = StandardScaler()"
   ]
  },
  {
   "cell_type": "code",
   "execution_count": 104,
   "metadata": {},
   "outputs": [],
   "source": [
    "x_train = sc.fit_transform(x_train)\n",
    "x_test  = sc.transform(x_test)"
   ]
  },
  {
   "cell_type": "code",
   "execution_count": 105,
   "metadata": {},
   "outputs": [],
   "source": [
    "test_data = sc.transform(test_data)"
   ]
  },
  {
   "cell_type": "markdown",
   "metadata": {},
   "source": [
    "### Model Building "
   ]
  },
  {
   "cell_type": "markdown",
   "metadata": {},
   "source": [
    "### Random Forest"
   ]
  },
  {
   "cell_type": "code",
   "execution_count": 106,
   "metadata": {},
   "outputs": [],
   "source": [
    "from sklearn.ensemble import RandomForestClassifier"
   ]
  },
  {
   "cell_type": "code",
   "execution_count": 107,
   "metadata": {},
   "outputs": [],
   "source": [
    "Model = RandomForestClassifier(random_state=123, n_estimators = 25, \n",
    "                               max_features = 5, min_samples_leaf = 500).fit(x_train, y_train)"
   ]
  },
  {
   "cell_type": "code",
   "execution_count": 108,
   "metadata": {},
   "outputs": [],
   "source": [
    "Model_pred = Model.predict(x_test)"
   ]
  },
  {
   "cell_type": "code",
   "execution_count": 110,
   "metadata": {},
   "outputs": [
    {
     "data": {
      "text/plain": [
       "0.8521210393805521"
      ]
     },
     "execution_count": 110,
     "metadata": {},
     "output_type": "execute_result"
    }
   ],
   "source": [
    "from sklearn.metrics import f1_score\n",
    "f1_score(y_test,Model_pred)"
   ]
  },
  {
   "cell_type": "code",
   "execution_count": 111,
   "metadata": {},
   "outputs": [],
   "source": [
    "from sklearn.model_selection import GridSearchCV\n",
    "\n",
    "my_param_grid = {'n_estimators':[15,25,30],\n",
    "                 'max_features':[5,7,9],\n",
    "                 'min_samples_leaf':[50,100]}"
   ]
  },
  {
   "cell_type": "code",
   "execution_count": 308,
   "metadata": {},
   "outputs": [],
   "source": [
    "Grid_Search_Model = GridSearchCV(estimator=RandomForestClassifier(random_state = 123),\n",
    "                                 param_grid=my_param_grid,\n",
    "                                 scoring='accuracy',\n",
    "                                 cv=5).fit(x_train, y_train)"
   ]
  },
  {
   "cell_type": "code",
   "execution_count": 309,
   "metadata": {},
   "outputs": [
    {
     "data": {
      "text/html": [
       "<div>\n",
       "<style scoped>\n",
       "    .dataframe tbody tr th:only-of-type {\n",
       "        vertical-align: middle;\n",
       "    }\n",
       "\n",
       "    .dataframe tbody tr th {\n",
       "        vertical-align: top;\n",
       "    }\n",
       "\n",
       "    .dataframe thead th {\n",
       "        text-align: right;\n",
       "    }\n",
       "</style>\n",
       "<table border=\"1\" class=\"dataframe\">\n",
       "  <thead>\n",
       "    <tr style=\"text-align: right;\">\n",
       "      <th></th>\n",
       "      <th>mean_fit_time</th>\n",
       "      <th>std_fit_time</th>\n",
       "      <th>mean_score_time</th>\n",
       "      <th>std_score_time</th>\n",
       "      <th>param_max_features</th>\n",
       "      <th>param_min_samples_leaf</th>\n",
       "      <th>param_n_estimators</th>\n",
       "      <th>params</th>\n",
       "      <th>split0_test_score</th>\n",
       "      <th>split1_test_score</th>\n",
       "      <th>split2_test_score</th>\n",
       "      <th>split3_test_score</th>\n",
       "      <th>split4_test_score</th>\n",
       "      <th>mean_test_score</th>\n",
       "      <th>std_test_score</th>\n",
       "      <th>rank_test_score</th>\n",
       "    </tr>\n",
       "  </thead>\n",
       "  <tbody>\n",
       "    <tr>\n",
       "      <th>0</th>\n",
       "      <td>0.918537</td>\n",
       "      <td>0.011694</td>\n",
       "      <td>0.037493</td>\n",
       "      <td>0.007643</td>\n",
       "      <td>5</td>\n",
       "      <td>50</td>\n",
       "      <td>15</td>\n",
       "      <td>{'max_features': 5, 'min_samples_leaf': 50, 'n...</td>\n",
       "      <td>0.896915</td>\n",
       "      <td>0.899657</td>\n",
       "      <td>0.903771</td>\n",
       "      <td>0.888813</td>\n",
       "      <td>0.896348</td>\n",
       "      <td>0.897101</td>\n",
       "      <td>0.004905</td>\n",
       "      <td>9</td>\n",
       "    </tr>\n",
       "    <tr>\n",
       "      <th>1</th>\n",
       "      <td>1.476359</td>\n",
       "      <td>0.006998</td>\n",
       "      <td>0.062478</td>\n",
       "      <td>0.000014</td>\n",
       "      <td>5</td>\n",
       "      <td>50</td>\n",
       "      <td>25</td>\n",
       "      <td>{'max_features': 5, 'min_samples_leaf': 50, 'n...</td>\n",
       "      <td>0.897787</td>\n",
       "      <td>0.904643</td>\n",
       "      <td>0.903895</td>\n",
       "      <td>0.895544</td>\n",
       "      <td>0.896410</td>\n",
       "      <td>0.899656</td>\n",
       "      <td>0.003841</td>\n",
       "      <td>8</td>\n",
       "    </tr>\n",
       "    <tr>\n",
       "      <th>2</th>\n",
       "      <td>1.763313</td>\n",
       "      <td>0.012248</td>\n",
       "      <td>0.071856</td>\n",
       "      <td>0.007655</td>\n",
       "      <td>5</td>\n",
       "      <td>50</td>\n",
       "      <td>30</td>\n",
       "      <td>{'max_features': 5, 'min_samples_leaf': 50, 'n...</td>\n",
       "      <td>0.899408</td>\n",
       "      <td>0.901839</td>\n",
       "      <td>0.903334</td>\n",
       "      <td>0.898598</td>\n",
       "      <td>0.900212</td>\n",
       "      <td>0.900678</td>\n",
       "      <td>0.001707</td>\n",
       "      <td>7</td>\n",
       "    </tr>\n",
       "    <tr>\n",
       "      <th>3</th>\n",
       "      <td>0.837308</td>\n",
       "      <td>0.007642</td>\n",
       "      <td>0.034361</td>\n",
       "      <td>0.006252</td>\n",
       "      <td>5</td>\n",
       "      <td>100</td>\n",
       "      <td>15</td>\n",
       "      <td>{'max_features': 5, 'min_samples_leaf': 100, '...</td>\n",
       "      <td>0.875974</td>\n",
       "      <td>0.882331</td>\n",
       "      <td>0.873294</td>\n",
       "      <td>0.869367</td>\n",
       "      <td>0.875592</td>\n",
       "      <td>0.875312</td>\n",
       "      <td>0.004224</td>\n",
       "      <td>18</td>\n",
       "    </tr>\n",
       "    <tr>\n",
       "      <th>4</th>\n",
       "      <td>2.187704</td>\n",
       "      <td>0.891119</td>\n",
       "      <td>0.134751</td>\n",
       "      <td>0.133393</td>\n",
       "      <td>5</td>\n",
       "      <td>100</td>\n",
       "      <td>25</td>\n",
       "      <td>{'max_features': 5, 'min_samples_leaf': 100, '...</td>\n",
       "      <td>0.879402</td>\n",
       "      <td>0.888626</td>\n",
       "      <td>0.874291</td>\n",
       "      <td>0.875911</td>\n",
       "      <td>0.881763</td>\n",
       "      <td>0.879999</td>\n",
       "      <td>0.005043</td>\n",
       "      <td>15</td>\n",
       "    </tr>\n",
       "    <tr>\n",
       "      <th>5</th>\n",
       "      <td>1.642197</td>\n",
       "      <td>0.019900</td>\n",
       "      <td>0.065599</td>\n",
       "      <td>0.006233</td>\n",
       "      <td>5</td>\n",
       "      <td>100</td>\n",
       "      <td>30</td>\n",
       "      <td>{'max_features': 5, 'min_samples_leaf': 100, '...</td>\n",
       "      <td>0.881022</td>\n",
       "      <td>0.886008</td>\n",
       "      <td>0.874478</td>\n",
       "      <td>0.874914</td>\n",
       "      <td>0.881139</td>\n",
       "      <td>0.879512</td>\n",
       "      <td>0.004327</td>\n",
       "      <td>17</td>\n",
       "    </tr>\n",
       "    <tr>\n",
       "      <th>6</th>\n",
       "      <td>1.120109</td>\n",
       "      <td>0.011938</td>\n",
       "      <td>0.037491</td>\n",
       "      <td>0.007653</td>\n",
       "      <td>7</td>\n",
       "      <td>50</td>\n",
       "      <td>15</td>\n",
       "      <td>{'max_features': 7, 'min_samples_leaf': 50, 'n...</td>\n",
       "      <td>0.900467</td>\n",
       "      <td>0.904643</td>\n",
       "      <td>0.902898</td>\n",
       "      <td>0.907199</td>\n",
       "      <td>0.897968</td>\n",
       "      <td>0.902635</td>\n",
       "      <td>0.003206</td>\n",
       "      <td>6</td>\n",
       "    </tr>\n",
       "    <tr>\n",
       "      <th>7</th>\n",
       "      <td>1.835200</td>\n",
       "      <td>0.015934</td>\n",
       "      <td>0.065612</td>\n",
       "      <td>0.006252</td>\n",
       "      <td>7</td>\n",
       "      <td>50</td>\n",
       "      <td>25</td>\n",
       "      <td>{'max_features': 7, 'min_samples_leaf': 50, 'n...</td>\n",
       "      <td>0.899907</td>\n",
       "      <td>0.902649</td>\n",
       "      <td>0.903771</td>\n",
       "      <td>0.908944</td>\n",
       "      <td>0.902518</td>\n",
       "      <td>0.903558</td>\n",
       "      <td>0.002976</td>\n",
       "      <td>5</td>\n",
       "    </tr>\n",
       "    <tr>\n",
       "      <th>8</th>\n",
       "      <td>2.160112</td>\n",
       "      <td>0.009820</td>\n",
       "      <td>0.074982</td>\n",
       "      <td>0.006248</td>\n",
       "      <td>7</td>\n",
       "      <td>50</td>\n",
       "      <td>30</td>\n",
       "      <td>{'max_features': 7, 'min_samples_leaf': 50, 'n...</td>\n",
       "      <td>0.901776</td>\n",
       "      <td>0.905516</td>\n",
       "      <td>0.907884</td>\n",
       "      <td>0.910689</td>\n",
       "      <td>0.904014</td>\n",
       "      <td>0.905976</td>\n",
       "      <td>0.003084</td>\n",
       "      <td>4</td>\n",
       "    </tr>\n",
       "    <tr>\n",
       "      <th>9</th>\n",
       "      <td>1.034547</td>\n",
       "      <td>0.015221</td>\n",
       "      <td>0.034367</td>\n",
       "      <td>0.006249</td>\n",
       "      <td>7</td>\n",
       "      <td>100</td>\n",
       "      <td>15</td>\n",
       "      <td>{'max_features': 7, 'min_samples_leaf': 100, '...</td>\n",
       "      <td>0.879713</td>\n",
       "      <td>0.886320</td>\n",
       "      <td>0.877844</td>\n",
       "      <td>0.886444</td>\n",
       "      <td>0.869983</td>\n",
       "      <td>0.880061</td>\n",
       "      <td>0.006108</td>\n",
       "      <td>14</td>\n",
       "    </tr>\n",
       "    <tr>\n",
       "      <th>10</th>\n",
       "      <td>1.674335</td>\n",
       "      <td>0.031492</td>\n",
       "      <td>0.053113</td>\n",
       "      <td>0.007652</td>\n",
       "      <td>7</td>\n",
       "      <td>100</td>\n",
       "      <td>25</td>\n",
       "      <td>{'max_features': 7, 'min_samples_leaf': 100, '...</td>\n",
       "      <td>0.878591</td>\n",
       "      <td>0.886444</td>\n",
       "      <td>0.880897</td>\n",
       "      <td>0.882767</td>\n",
       "      <td>0.870606</td>\n",
       "      <td>0.879861</td>\n",
       "      <td>0.005294</td>\n",
       "      <td>16</td>\n",
       "    </tr>\n",
       "    <tr>\n",
       "      <th>11</th>\n",
       "      <td>1.985188</td>\n",
       "      <td>0.028734</td>\n",
       "      <td>0.065609</td>\n",
       "      <td>0.006249</td>\n",
       "      <td>7</td>\n",
       "      <td>100</td>\n",
       "      <td>30</td>\n",
       "      <td>{'max_features': 7, 'min_samples_leaf': 100, '...</td>\n",
       "      <td>0.879776</td>\n",
       "      <td>0.889810</td>\n",
       "      <td>0.882144</td>\n",
       "      <td>0.880835</td>\n",
       "      <td>0.872974</td>\n",
       "      <td>0.881108</td>\n",
       "      <td>0.005381</td>\n",
       "      <td>13</td>\n",
       "    </tr>\n",
       "    <tr>\n",
       "      <th>12</th>\n",
       "      <td>1.252837</td>\n",
       "      <td>0.018236</td>\n",
       "      <td>0.043733</td>\n",
       "      <td>0.006244</td>\n",
       "      <td>9</td>\n",
       "      <td>50</td>\n",
       "      <td>15</td>\n",
       "      <td>{'max_features': 9, 'min_samples_leaf': 50, 'n...</td>\n",
       "      <td>0.907759</td>\n",
       "      <td>0.917544</td>\n",
       "      <td>0.909505</td>\n",
       "      <td>0.909380</td>\n",
       "      <td>0.912428</td>\n",
       "      <td>0.911323</td>\n",
       "      <td>0.003456</td>\n",
       "      <td>3</td>\n",
       "    </tr>\n",
       "    <tr>\n",
       "      <th>13</th>\n",
       "      <td>2.083893</td>\n",
       "      <td>0.032151</td>\n",
       "      <td>0.065609</td>\n",
       "      <td>0.006248</td>\n",
       "      <td>9</td>\n",
       "      <td>50</td>\n",
       "      <td>25</td>\n",
       "      <td>{'max_features': 9, 'min_samples_leaf': 50, 'n...</td>\n",
       "      <td>0.909131</td>\n",
       "      <td>0.916921</td>\n",
       "      <td>0.912745</td>\n",
       "      <td>0.911000</td>\n",
       "      <td>0.915794</td>\n",
       "      <td>0.913118</td>\n",
       "      <td>0.002903</td>\n",
       "      <td>2</td>\n",
       "    </tr>\n",
       "    <tr>\n",
       "      <th>14</th>\n",
       "      <td>2.505660</td>\n",
       "      <td>0.035070</td>\n",
       "      <td>0.074982</td>\n",
       "      <td>0.006248</td>\n",
       "      <td>9</td>\n",
       "      <td>50</td>\n",
       "      <td>30</td>\n",
       "      <td>{'max_features': 9, 'min_samples_leaf': 50, 'n...</td>\n",
       "      <td>0.910876</td>\n",
       "      <td>0.917046</td>\n",
       "      <td>0.912184</td>\n",
       "      <td>0.912808</td>\n",
       "      <td>0.915669</td>\n",
       "      <td>0.913717</td>\n",
       "      <td>0.002287</td>\n",
       "      <td>1</td>\n",
       "    </tr>\n",
       "    <tr>\n",
       "      <th>15</th>\n",
       "      <td>1.168484</td>\n",
       "      <td>0.018224</td>\n",
       "      <td>0.037491</td>\n",
       "      <td>0.007653</td>\n",
       "      <td>9</td>\n",
       "      <td>100</td>\n",
       "      <td>15</td>\n",
       "      <td>{'max_features': 9, 'min_samples_leaf': 100, '...</td>\n",
       "      <td>0.890558</td>\n",
       "      <td>0.892490</td>\n",
       "      <td>0.890184</td>\n",
       "      <td>0.890932</td>\n",
       "      <td>0.889678</td>\n",
       "      <td>0.890768</td>\n",
       "      <td>0.000955</td>\n",
       "      <td>12</td>\n",
       "    </tr>\n",
       "    <tr>\n",
       "      <th>16</th>\n",
       "      <td>1.937041</td>\n",
       "      <td>0.022093</td>\n",
       "      <td>0.062488</td>\n",
       "      <td>0.000006</td>\n",
       "      <td>9</td>\n",
       "      <td>100</td>\n",
       "      <td>25</td>\n",
       "      <td>{'max_features': 9, 'min_samples_leaf': 100, '...</td>\n",
       "      <td>0.889249</td>\n",
       "      <td>0.891555</td>\n",
       "      <td>0.893238</td>\n",
       "      <td>0.892988</td>\n",
       "      <td>0.891611</td>\n",
       "      <td>0.891728</td>\n",
       "      <td>0.001418</td>\n",
       "      <td>10</td>\n",
       "    </tr>\n",
       "    <tr>\n",
       "      <th>17</th>\n",
       "      <td>2.386939</td>\n",
       "      <td>0.081726</td>\n",
       "      <td>0.078105</td>\n",
       "      <td>0.009879</td>\n",
       "      <td>9</td>\n",
       "      <td>100</td>\n",
       "      <td>30</td>\n",
       "      <td>{'max_features': 9, 'min_samples_leaf': 100, '...</td>\n",
       "      <td>0.888127</td>\n",
       "      <td>0.890433</td>\n",
       "      <td>0.893051</td>\n",
       "      <td>0.894921</td>\n",
       "      <td>0.890115</td>\n",
       "      <td>0.891329</td>\n",
       "      <td>0.002383</td>\n",
       "      <td>11</td>\n",
       "    </tr>\n",
       "  </tbody>\n",
       "</table>\n",
       "</div>"
      ],
      "text/plain": [
       "    mean_fit_time  std_fit_time  mean_score_time  std_score_time  \\\n",
       "0        0.918537      0.011694         0.037493        0.007643   \n",
       "1        1.476359      0.006998         0.062478        0.000014   \n",
       "2        1.763313      0.012248         0.071856        0.007655   \n",
       "3        0.837308      0.007642         0.034361        0.006252   \n",
       "4        2.187704      0.891119         0.134751        0.133393   \n",
       "5        1.642197      0.019900         0.065599        0.006233   \n",
       "6        1.120109      0.011938         0.037491        0.007653   \n",
       "7        1.835200      0.015934         0.065612        0.006252   \n",
       "8        2.160112      0.009820         0.074982        0.006248   \n",
       "9        1.034547      0.015221         0.034367        0.006249   \n",
       "10       1.674335      0.031492         0.053113        0.007652   \n",
       "11       1.985188      0.028734         0.065609        0.006249   \n",
       "12       1.252837      0.018236         0.043733        0.006244   \n",
       "13       2.083893      0.032151         0.065609        0.006248   \n",
       "14       2.505660      0.035070         0.074982        0.006248   \n",
       "15       1.168484      0.018224         0.037491        0.007653   \n",
       "16       1.937041      0.022093         0.062488        0.000006   \n",
       "17       2.386939      0.081726         0.078105        0.009879   \n",
       "\n",
       "   param_max_features param_min_samples_leaf param_n_estimators  \\\n",
       "0                   5                     50                 15   \n",
       "1                   5                     50                 25   \n",
       "2                   5                     50                 30   \n",
       "3                   5                    100                 15   \n",
       "4                   5                    100                 25   \n",
       "5                   5                    100                 30   \n",
       "6                   7                     50                 15   \n",
       "7                   7                     50                 25   \n",
       "8                   7                     50                 30   \n",
       "9                   7                    100                 15   \n",
       "10                  7                    100                 25   \n",
       "11                  7                    100                 30   \n",
       "12                  9                     50                 15   \n",
       "13                  9                     50                 25   \n",
       "14                  9                     50                 30   \n",
       "15                  9                    100                 15   \n",
       "16                  9                    100                 25   \n",
       "17                  9                    100                 30   \n",
       "\n",
       "                                               params  split0_test_score  \\\n",
       "0   {'max_features': 5, 'min_samples_leaf': 50, 'n...           0.896915   \n",
       "1   {'max_features': 5, 'min_samples_leaf': 50, 'n...           0.897787   \n",
       "2   {'max_features': 5, 'min_samples_leaf': 50, 'n...           0.899408   \n",
       "3   {'max_features': 5, 'min_samples_leaf': 100, '...           0.875974   \n",
       "4   {'max_features': 5, 'min_samples_leaf': 100, '...           0.879402   \n",
       "5   {'max_features': 5, 'min_samples_leaf': 100, '...           0.881022   \n",
       "6   {'max_features': 7, 'min_samples_leaf': 50, 'n...           0.900467   \n",
       "7   {'max_features': 7, 'min_samples_leaf': 50, 'n...           0.899907   \n",
       "8   {'max_features': 7, 'min_samples_leaf': 50, 'n...           0.901776   \n",
       "9   {'max_features': 7, 'min_samples_leaf': 100, '...           0.879713   \n",
       "10  {'max_features': 7, 'min_samples_leaf': 100, '...           0.878591   \n",
       "11  {'max_features': 7, 'min_samples_leaf': 100, '...           0.879776   \n",
       "12  {'max_features': 9, 'min_samples_leaf': 50, 'n...           0.907759   \n",
       "13  {'max_features': 9, 'min_samples_leaf': 50, 'n...           0.909131   \n",
       "14  {'max_features': 9, 'min_samples_leaf': 50, 'n...           0.910876   \n",
       "15  {'max_features': 9, 'min_samples_leaf': 100, '...           0.890558   \n",
       "16  {'max_features': 9, 'min_samples_leaf': 100, '...           0.889249   \n",
       "17  {'max_features': 9, 'min_samples_leaf': 100, '...           0.888127   \n",
       "\n",
       "    split1_test_score  split2_test_score  split3_test_score  \\\n",
       "0            0.899657           0.903771           0.888813   \n",
       "1            0.904643           0.903895           0.895544   \n",
       "2            0.901839           0.903334           0.898598   \n",
       "3            0.882331           0.873294           0.869367   \n",
       "4            0.888626           0.874291           0.875911   \n",
       "5            0.886008           0.874478           0.874914   \n",
       "6            0.904643           0.902898           0.907199   \n",
       "7            0.902649           0.903771           0.908944   \n",
       "8            0.905516           0.907884           0.910689   \n",
       "9            0.886320           0.877844           0.886444   \n",
       "10           0.886444           0.880897           0.882767   \n",
       "11           0.889810           0.882144           0.880835   \n",
       "12           0.917544           0.909505           0.909380   \n",
       "13           0.916921           0.912745           0.911000   \n",
       "14           0.917046           0.912184           0.912808   \n",
       "15           0.892490           0.890184           0.890932   \n",
       "16           0.891555           0.893238           0.892988   \n",
       "17           0.890433           0.893051           0.894921   \n",
       "\n",
       "    split4_test_score  mean_test_score  std_test_score  rank_test_score  \n",
       "0            0.896348         0.897101        0.004905                9  \n",
       "1            0.896410         0.899656        0.003841                8  \n",
       "2            0.900212         0.900678        0.001707                7  \n",
       "3            0.875592         0.875312        0.004224               18  \n",
       "4            0.881763         0.879999        0.005043               15  \n",
       "5            0.881139         0.879512        0.004327               17  \n",
       "6            0.897968         0.902635        0.003206                6  \n",
       "7            0.902518         0.903558        0.002976                5  \n",
       "8            0.904014         0.905976        0.003084                4  \n",
       "9            0.869983         0.880061        0.006108               14  \n",
       "10           0.870606         0.879861        0.005294               16  \n",
       "11           0.872974         0.881108        0.005381               13  \n",
       "12           0.912428         0.911323        0.003456                3  \n",
       "13           0.915794         0.913118        0.002903                2  \n",
       "14           0.915669         0.913717        0.002287                1  \n",
       "15           0.889678         0.890768        0.000955               12  \n",
       "16           0.891611         0.891728        0.001418               10  \n",
       "17           0.890115         0.891329        0.002383               11  "
      ]
     },
     "execution_count": 309,
     "metadata": {},
     "output_type": "execute_result"
    }
   ],
   "source": [
    "Grid_Search_Df = pd.DataFrame.from_dict(Grid_Search_Model.cv_results_)\n",
    "Grid_Search_Df"
   ]
  },
  {
   "cell_type": "code",
   "execution_count": 112,
   "metadata": {},
   "outputs": [],
   "source": [
    "Final_Model = RandomForestClassifier(random_state = 123,n_estimators = 30, max_features = 9, min_samples_leaf=50).fit(x_train,y_train)"
   ]
  },
  {
   "cell_type": "code",
   "execution_count": 113,
   "metadata": {},
   "outputs": [],
   "source": [
    "Final_Model_Predict = Final_Model.predict(x_test)"
   ]
  },
  {
   "cell_type": "code",
   "execution_count": 114,
   "metadata": {},
   "outputs": [
    {
     "data": {
      "text/plain": [
       "0.9206842923794711"
      ]
     },
     "execution_count": 114,
     "metadata": {},
     "output_type": "execute_result"
    }
   ],
   "source": [
    "f1_score(y_test,Final_Model_Predict)"
   ]
  },
  {
   "cell_type": "markdown",
   "metadata": {},
   "source": [
    "### Apply on test set"
   ]
  },
  {
   "cell_type": "code",
   "execution_count": 115,
   "metadata": {},
   "outputs": [],
   "source": [
    "Final_Model_Predict1 = Final_Model.predict(test_data)"
   ]
  },
  {
   "cell_type": "code",
   "execution_count": 116,
   "metadata": {},
   "outputs": [
    {
     "data": {
      "text/plain": [
       "array([1, 0, 0, ..., 0, 0, 1], dtype=int64)"
      ]
     },
     "execution_count": 116,
     "metadata": {},
     "output_type": "execute_result"
    }
   ],
   "source": [
    "Final_Model_Predict1"
   ]
  },
  {
   "cell_type": "markdown",
   "metadata": {},
   "source": [
    "### Submission File"
   ]
  },
  {
   "cell_type": "code",
   "execution_count": 117,
   "metadata": {},
   "outputs": [
    {
     "data": {
      "text/plain": [
       "array([ 8724, 74430, 72255, ..., 45409,  1186,  5973], dtype=int64)"
      ]
     },
     "execution_count": 117,
     "metadata": {},
     "output_type": "execute_result"
    }
   ],
   "source": [
    "np.array(employee_id)"
   ]
  },
  {
   "cell_type": "code",
   "execution_count": 118,
   "metadata": {},
   "outputs": [
    {
     "data": {
      "text/plain": [
       "(23490,)"
      ]
     },
     "execution_count": 118,
     "metadata": {},
     "output_type": "execute_result"
    }
   ],
   "source": [
    "employee_id.shape"
   ]
  },
  {
   "cell_type": "code",
   "execution_count": 119,
   "metadata": {},
   "outputs": [
    {
     "data": {
      "text/plain": [
       "array([1, 1, 1, ..., 1, 0, 0], dtype=int64)"
      ]
     },
     "execution_count": 119,
     "metadata": {},
     "output_type": "execute_result"
    }
   ],
   "source": [
    "np.array(Final_Model_Predict)"
   ]
  },
  {
   "cell_type": "code",
   "execution_count": 120,
   "metadata": {},
   "outputs": [
    {
     "data": {
      "text/plain": [
       "(23490,)"
      ]
     },
     "execution_count": 120,
     "metadata": {},
     "output_type": "execute_result"
    }
   ],
   "source": [
    "Final_Model_Predict1.shape"
   ]
  },
  {
   "cell_type": "code",
   "execution_count": 123,
   "metadata": {},
   "outputs": [],
   "source": [
    "Submission = pd.DataFrame({ 'employee_id': employee_id, 'is_promoted': Final_Model_Predict1 })"
   ]
  },
  {
   "cell_type": "code",
   "execution_count": 125,
   "metadata": {},
   "outputs": [],
   "source": [
    "Submission.to_csv(\"Submission.csv\", index=False)"
   ]
  }
 ],
 "metadata": {
  "kernelspec": {
   "display_name": "Python 3",
   "language": "python",
   "name": "python3"
  },
  "language_info": {
   "codemirror_mode": {
    "name": "ipython",
    "version": 3
   },
   "file_extension": ".py",
   "mimetype": "text/x-python",
   "name": "python",
   "nbconvert_exporter": "python",
   "pygments_lexer": "ipython3",
   "version": "3.7.3"
  }
 },
 "nbformat": 4,
 "nbformat_minor": 2
}
